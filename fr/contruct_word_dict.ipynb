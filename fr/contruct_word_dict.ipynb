{
 "cells": [
  {
   "cell_type": "code",
   "execution_count": 60,
   "metadata": {},
   "outputs": [],
   "source": [
    "# coding:utf-8\n",
    "import arrow\n",
    "import qgrid\n",
    "import seaborn as sns\n",
    "import numpy as np\n",
    "import pandas as pd\n",
    "from pandas import Series, DataFrame\n",
    "\n",
    "import matplotlib.pyplot as plt\n",
    "%matplotlib inline\n",
    "\n",
    "sns.set(style='whitegrid')"
   ]
  },
  {
   "cell_type": "code",
   "execution_count": 61,
   "metadata": {},
   "outputs": [],
   "source": [
    "from pyhanlp import *"
   ]
  },
  {
   "cell_type": "code",
   "execution_count": 62,
   "metadata": {},
   "outputs": [
    {
     "name": "stdout",
     "output_type": "stream",
     "text": [
      "[李泽钜/nr, 接手/v, 后/f, 的/ude1, 屈臣氏/nr, ：/w, 前/f, 有/vyou, 丝/n, 芙/ng, 兰后/j, 有/vyou, KOL/nx,  /w, 腾讯/ntc, 阿里/nt, 争/v, 买/v, 股份/n,  /w, 谁/ry, 才/d, 是/vshi, 最大/gm, 的/ude1, 赢家/n]\n"
     ]
    }
   ],
   "source": [
    "print(HanLP.segment('李泽钜接手后的屈臣氏：前有丝芙兰后有KOL 腾讯阿里争买股份 谁才是最大的赢家'))"
   ]
  },
  {
   "cell_type": "code",
   "execution_count": 63,
   "metadata": {},
   "outputs": [
    {
     "data": {
      "text/html": [
       "<div>\n",
       "<style scoped>\n",
       "    .dataframe tbody tr th:only-of-type {\n",
       "        vertical-align: middle;\n",
       "    }\n",
       "\n",
       "    .dataframe tbody tr th {\n",
       "        vertical-align: top;\n",
       "    }\n",
       "\n",
       "    .dataframe thead th {\n",
       "        text-align: right;\n",
       "    }\n",
       "</style>\n",
       "<table border=\"1\" class=\"dataframe\">\n",
       "  <thead>\n",
       "    <tr style=\"text-align: right;\">\n",
       "      <th></th>\n",
       "      <th>title</th>\n",
       "      <th>url</th>\n",
       "      <th>ctime</th>\n",
       "      <th>label_type</th>\n",
       "      <th>label_property</th>\n",
       "      <th>label_article</th>\n",
       "      <th>code</th>\n",
       "      <th>company</th>\n",
       "      <th>industry</th>\n",
       "    </tr>\n",
       "  </thead>\n",
       "  <tbody>\n",
       "    <tr>\n",
       "      <th>0</th>\n",
       "      <td>香港老牌发展商合和实业今日除牌 结束近47年上市地位</td>\n",
       "      <td>https://news.10jqka.com.cn/m611192568/</td>\n",
       "      <td>1556849040</td>\n",
       "      <td>新闻</td>\n",
       "      <td>中性</td>\n",
       "      <td>50019340_除牌,50023242_合和实业</td>\n",
       "      <td>HK0001</td>\n",
       "      <td>长和</td>\n",
       "      <td>综合</td>\n",
       "    </tr>\n",
       "    <tr>\n",
       "      <th>1</th>\n",
       "      <td>赫斯基首季盈利增32%胜预期</td>\n",
       "      <td>https://news.10jqka.com.cn/m611120552/</td>\n",
       "      <td>1556349944</td>\n",
       "      <td>新闻</td>\n",
       "      <td>中性</td>\n",
       "      <td>50000652_项目投资,50006059_原油价格</td>\n",
       "      <td>HK0001</td>\n",
       "      <td>长和</td>\n",
       "      <td>综合</td>\n",
       "    </tr>\n",
       "    <tr>\n",
       "      <th>2</th>\n",
       "      <td>17年之后 李嘉诚长和系公司再度申请在香港主板上市</td>\n",
       "      <td>https://m.21jingji.com/article/20190416/herald...</td>\n",
       "      <td>1555418857</td>\n",
       "      <td>新闻</td>\n",
       "      <td>中性</td>\n",
       "      <td>50004955_李嘉诚,50015283_主板</td>\n",
       "      <td>HK0001</td>\n",
       "      <td>长和</td>\n",
       "      <td>综合</td>\n",
       "    </tr>\n",
       "    <tr>\n",
       "      <th>3</th>\n",
       "      <td>李泽钜接手后的屈臣氏：前有丝芙兰后有KOL 腾讯阿里争买股份 谁才是最大的赢家</td>\n",
       "      <td>https://m.jiemian.com/article/3002332.html</td>\n",
       "      <td>1554091843</td>\n",
       "      <td>新闻</td>\n",
       "      <td>中性</td>\n",
       "      <td>50001089_腾讯,50004918_阿里巴巴</td>\n",
       "      <td>HK0001</td>\n",
       "      <td>长和</td>\n",
       "      <td>综合</td>\n",
       "    </tr>\n",
       "    <tr>\n",
       "      <th>4</th>\n",
       "      <td>东兴证券2019年4月十大金股</td>\n",
       "      <td>https://mp.weixin.qq.com/s?__biz=MzA3NTA2NTUwO...</td>\n",
       "      <td>1553913617</td>\n",
       "      <td>新闻</td>\n",
       "      <td>中性</td>\n",
       "      <td>50004118_东兴证券,50009633_风险警示</td>\n",
       "      <td>HK0001</td>\n",
       "      <td>长和</td>\n",
       "      <td>综合</td>\n",
       "    </tr>\n",
       "  </tbody>\n",
       "</table>\n",
       "</div>"
      ],
      "text/plain": [
       "                                     title  \\\n",
       "0               香港老牌发展商合和实业今日除牌 结束近47年上市地位   \n",
       "1                           赫斯基首季盈利增32%胜预期   \n",
       "2                17年之后 李嘉诚长和系公司再度申请在香港主板上市   \n",
       "3  李泽钜接手后的屈臣氏：前有丝芙兰后有KOL 腾讯阿里争买股份 谁才是最大的赢家   \n",
       "4                          东兴证券2019年4月十大金股   \n",
       "\n",
       "                                                 url       ctime label_type  \\\n",
       "0             https://news.10jqka.com.cn/m611192568/  1556849040         新闻   \n",
       "1             https://news.10jqka.com.cn/m611120552/  1556349944         新闻   \n",
       "2  https://m.21jingji.com/article/20190416/herald...  1555418857         新闻   \n",
       "3         https://m.jiemian.com/article/3002332.html  1554091843         新闻   \n",
       "4  https://mp.weixin.qq.com/s?__biz=MzA3NTA2NTUwO...  1553913617         新闻   \n",
       "\n",
       "  label_property                label_article    code company industry  \n",
       "0             中性    50019340_除牌,50023242_合和实业  HK0001      长和       综合  \n",
       "1             中性  50000652_项目投资,50006059_原油价格  HK0001      长和       综合  \n",
       "2             中性     50004955_李嘉诚,50015283_主板  HK0001      长和       综合  \n",
       "3             中性    50001089_腾讯,50004918_阿里巴巴  HK0001      长和       综合  \n",
       "4             中性  50004118_东兴证券,50009633_风险警示  HK0001      长和       综合  "
      ]
     },
     "execution_count": 63,
     "metadata": {},
     "output_type": "execute_result"
    }
   ],
   "source": [
    "my_hk_news_all = pd.read_csv(\"../tmp_data/my_hk_news_all.csv\",encoding='utf-8',index_col = False, delimiter=',' )\n",
    "my_hk_news_all.head()"
   ]
  },
  {
   "cell_type": "code",
   "execution_count": 64,
   "metadata": {},
   "outputs": [
    {
     "data": {
      "text/html": [
       "<div>\n",
       "<style scoped>\n",
       "    .dataframe tbody tr th:only-of-type {\n",
       "        vertical-align: middle;\n",
       "    }\n",
       "\n",
       "    .dataframe tbody tr th {\n",
       "        vertical-align: top;\n",
       "    }\n",
       "\n",
       "    .dataframe thead th {\n",
       "        text-align: right;\n",
       "    }\n",
       "</style>\n",
       "<table border=\"1\" class=\"dataframe\">\n",
       "  <thead>\n",
       "    <tr style=\"text-align: right;\">\n",
       "      <th></th>\n",
       "      <th>title</th>\n",
       "    </tr>\n",
       "  </thead>\n",
       "  <tbody>\n",
       "    <tr>\n",
       "      <th>0</th>\n",
       "      <td>香港老牌发展商合和实业今日除牌 结束近47年上市地位</td>\n",
       "    </tr>\n",
       "    <tr>\n",
       "      <th>1</th>\n",
       "      <td>赫斯基首季盈利增32%胜预期</td>\n",
       "    </tr>\n",
       "    <tr>\n",
       "      <th>2</th>\n",
       "      <td>17年之后 李嘉诚长和系公司再度申请在香港主板上市</td>\n",
       "    </tr>\n",
       "    <tr>\n",
       "      <th>3</th>\n",
       "      <td>李泽钜接手后的屈臣氏：前有丝芙兰后有KOL 腾讯阿里争买股份 谁才是最大的赢家</td>\n",
       "    </tr>\n",
       "    <tr>\n",
       "      <th>4</th>\n",
       "      <td>东兴证券2019年4月十大金股</td>\n",
       "    </tr>\n",
       "  </tbody>\n",
       "</table>\n",
       "</div>"
      ],
      "text/plain": [
       "                                     title\n",
       "0               香港老牌发展商合和实业今日除牌 结束近47年上市地位\n",
       "1                           赫斯基首季盈利增32%胜预期\n",
       "2                17年之后 李嘉诚长和系公司再度申请在香港主板上市\n",
       "3  李泽钜接手后的屈臣氏：前有丝芙兰后有KOL 腾讯阿里争买股份 谁才是最大的赢家\n",
       "4                          东兴证券2019年4月十大金股"
      ]
     },
     "execution_count": 64,
     "metadata": {},
     "output_type": "execute_result"
    }
   ],
   "source": [
    "my_hk_news_all = my_hk_news_all.drop(['ctime','label_type','label_article','industry','url','label_property','code','company'],axis=1)\n",
    "my_hk_news_all.head()"
   ]
  },
  {
   "cell_type": "code",
   "execution_count": 65,
   "metadata": {},
   "outputs": [
    {
     "data": {
      "text/html": [
       "<div>\n",
       "<style scoped>\n",
       "    .dataframe tbody tr th:only-of-type {\n",
       "        vertical-align: middle;\n",
       "    }\n",
       "\n",
       "    .dataframe tbody tr th {\n",
       "        vertical-align: top;\n",
       "    }\n",
       "\n",
       "    .dataframe thead th {\n",
       "        text-align: right;\n",
       "    }\n",
       "</style>\n",
       "<table border=\"1\" class=\"dataframe\">\n",
       "  <thead>\n",
       "    <tr style=\"text-align: right;\">\n",
       "      <th></th>\n",
       "      <th>title</th>\n",
       "      <th>noun</th>\n",
       "    </tr>\n",
       "  </thead>\n",
       "  <tbody>\n",
       "    <tr>\n",
       "      <th>0</th>\n",
       "      <td>香港老牌发展商合和实业今日除牌 结束近47年上市地位</td>\n",
       "      <td>O O O O O O O B-ORG I-ORG I-ORG I-ORG O O O O ...</td>\n",
       "    </tr>\n",
       "    <tr>\n",
       "      <th>1</th>\n",
       "      <td>赫斯基首季盈利增32%胜预期</td>\n",
       "      <td>O O O O O O O O O O O O O O</td>\n",
       "    </tr>\n",
       "    <tr>\n",
       "      <th>2</th>\n",
       "      <td>17年之后 李嘉诚长和系公司再度申请在香港主板上市</td>\n",
       "      <td>O O O O O O O O O B-ORG I-ORG O O O O O O O O ...</td>\n",
       "    </tr>\n",
       "    <tr>\n",
       "      <th>3</th>\n",
       "      <td>李泽钜接手后的屈臣氏：前有丝芙兰后有KOL 腾讯阿里争买股份 谁才是最大的赢家</td>\n",
       "      <td>O O O O O O O O O O O O O O O O O O O O O O B-...</td>\n",
       "    </tr>\n",
       "    <tr>\n",
       "      <th>4</th>\n",
       "      <td>东兴证券2019年4月十大金股</td>\n",
       "      <td>B-ORG I-ORG I-ORG I-ORG O O O O O O O O O O O</td>\n",
       "    </tr>\n",
       "  </tbody>\n",
       "</table>\n",
       "</div>"
      ],
      "text/plain": [
       "                                     title  \\\n",
       "0               香港老牌发展商合和实业今日除牌 结束近47年上市地位   \n",
       "1                           赫斯基首季盈利增32%胜预期   \n",
       "2                17年之后 李嘉诚长和系公司再度申请在香港主板上市   \n",
       "3  李泽钜接手后的屈臣氏：前有丝芙兰后有KOL 腾讯阿里争买股份 谁才是最大的赢家   \n",
       "4                          东兴证券2019年4月十大金股   \n",
       "\n",
       "                                                noun  \n",
       "0  O O O O O O O B-ORG I-ORG I-ORG I-ORG O O O O ...  \n",
       "1                        O O O O O O O O O O O O O O  \n",
       "2  O O O O O O O O O B-ORG I-ORG O O O O O O O O ...  \n",
       "3  O O O O O O O O O O O O O O O O O O O O O O B-...  \n",
       "4      B-ORG I-ORG I-ORG I-ORG O O O O O O O O O O O  "
      ]
     },
     "execution_count": 65,
     "metadata": {},
     "output_type": "execute_result"
    }
   ],
   "source": [
    "def cut_word(sentence):\n",
    "    term_nature = []\n",
    "    \n",
    "    \n",
    "    termlist = HanLP.segment(sentence.strip())\n",
    "#print(len(sentence.strip()))\n",
    "    \n",
    "    for term in termlist:\n",
    "        str_term = str(term)\n",
    "\n",
    "        str_arr = str_term.split('/')\n",
    "        if str_arr[1] == 'company' or str_arr[1] == 'nt' or  str_arr[1] == 'ntc' :\n",
    "            len_word = len(str_arr[0])\n",
    "            for i in range(0,len_word):\n",
    "                if i==0: \n",
    "                    term_nature.append('B-ORG')\n",
    "                else:\n",
    "                    term_nature.append('I-ORG')\n",
    "        else:\n",
    "            len_word = len(str_arr[0])\n",
    "            for i in range(0,len_word):\n",
    "                term_nature.append('O')\n",
    "    if len(term_nature) == len(sentence.strip()):\n",
    "        return \" \".join(term_nature)\n",
    "    else :\n",
    "        return \"\".join(term_nature)\n",
    "\n",
    "my_hk_news_all['noun'] = my_hk_news_all['title'].apply(cut_word)\n",
    "my_hk_news_all.head()"
   ]
  },
  {
   "cell_type": "code",
   "execution_count": 66,
   "metadata": {},
   "outputs": [
    {
     "data": {
      "text/html": [
       "<div>\n",
       "<style scoped>\n",
       "    .dataframe tbody tr th:only-of-type {\n",
       "        vertical-align: middle;\n",
       "    }\n",
       "\n",
       "    .dataframe tbody tr th {\n",
       "        vertical-align: top;\n",
       "    }\n",
       "\n",
       "    .dataframe thead th {\n",
       "        text-align: right;\n",
       "    }\n",
       "</style>\n",
       "<table border=\"1\" class=\"dataframe\">\n",
       "  <thead>\n",
       "    <tr style=\"text-align: right;\">\n",
       "      <th></th>\n",
       "      <th>title</th>\n",
       "      <th>noun</th>\n",
       "      <th>word_seg</th>\n",
       "    </tr>\n",
       "  </thead>\n",
       "  <tbody>\n",
       "    <tr>\n",
       "      <th>0</th>\n",
       "      <td>香港老牌发展商合和实业今日除牌 结束近47年上市地位</td>\n",
       "      <td>O O O O O O O B-ORG I-ORG I-ORG I-ORG O O O O ...</td>\n",
       "      <td>香港老牌发展商合和实业今日除牌 结束近47年上市地位</td>\n",
       "    </tr>\n",
       "    <tr>\n",
       "      <th>1</th>\n",
       "      <td>赫斯基首季盈利增32%胜预期</td>\n",
       "      <td>O O O O O O O O O O O O O O</td>\n",
       "      <td>赫斯基首季盈利增32%胜预期</td>\n",
       "    </tr>\n",
       "    <tr>\n",
       "      <th>2</th>\n",
       "      <td>17年之后 李嘉诚长和系公司再度申请在香港主板上市</td>\n",
       "      <td>O O O O O O O O O B-ORG I-ORG O O O O O O O O ...</td>\n",
       "      <td>17年之后 李嘉诚长和系公司再度申请在香港主板上市</td>\n",
       "    </tr>\n",
       "    <tr>\n",
       "      <th>3</th>\n",
       "      <td>李泽钜接手后的屈臣氏：前有丝芙兰后有KOL 腾讯阿里争买股份 谁才是最大的赢家</td>\n",
       "      <td>O O O O O O O O O O O O O O O O O O O O O O B-...</td>\n",
       "      <td>李泽钜接手后的屈臣氏：前有丝芙兰后有KOL 腾讯阿里争买股份 谁才是最大的赢家</td>\n",
       "    </tr>\n",
       "    <tr>\n",
       "      <th>4</th>\n",
       "      <td>东兴证券2019年4月十大金股</td>\n",
       "      <td>B-ORG I-ORG I-ORG I-ORG O O O O O O O O O O O</td>\n",
       "      <td>东兴证券2019年4月十大金股</td>\n",
       "    </tr>\n",
       "  </tbody>\n",
       "</table>\n",
       "</div>"
      ],
      "text/plain": [
       "                                     title  \\\n",
       "0               香港老牌发展商合和实业今日除牌 结束近47年上市地位   \n",
       "1                           赫斯基首季盈利增32%胜预期   \n",
       "2                17年之后 李嘉诚长和系公司再度申请在香港主板上市   \n",
       "3  李泽钜接手后的屈臣氏：前有丝芙兰后有KOL 腾讯阿里争买股份 谁才是最大的赢家   \n",
       "4                          东兴证券2019年4月十大金股   \n",
       "\n",
       "                                                noun  \\\n",
       "0  O O O O O O O B-ORG I-ORG I-ORG I-ORG O O O O ...   \n",
       "1                        O O O O O O O O O O O O O O   \n",
       "2  O O O O O O O O O B-ORG I-ORG O O O O O O O O ...   \n",
       "3  O O O O O O O O O O O O O O O O O O O O O O B-...   \n",
       "4      B-ORG I-ORG I-ORG I-ORG O O O O O O O O O O O   \n",
       "\n",
       "                                  word_seg  \n",
       "0               香港老牌发展商合和实业今日除牌 结束近47年上市地位  \n",
       "1                           赫斯基首季盈利增32%胜预期  \n",
       "2                17年之后 李嘉诚长和系公司再度申请在香港主板上市  \n",
       "3  李泽钜接手后的屈臣氏：前有丝芙兰后有KOL 腾讯阿里争买股份 谁才是最大的赢家  \n",
       "4                          东兴证券2019年4月十大金股  "
      ]
     },
     "execution_count": 66,
     "metadata": {},
     "output_type": "execute_result"
    }
   ],
   "source": [
    "def cut_word_tmp(x):\n",
    "    word_seg = []\n",
    "    if len(x['title'].strip()) == len(x['noun'].split()):\n",
    "        for word in x['title']:\n",
    "            word_seg.append(word)\n",
    "        return \"\".join(word_seg)\n",
    "        \n",
    "    else:\n",
    "        return \"\"\n",
    "\n",
    "            \n",
    "\n",
    "my_hk_news_all['word_seg'] = my_hk_news_all.apply(cut_word_tmp,axis=1)\n",
    "my_hk_news_all.head()"
   ]
  },
  {
   "cell_type": "code",
   "execution_count": 67,
   "metadata": {},
   "outputs": [],
   "source": [
    "my_hk_news_all = my_hk_news_all[my_hk_news_all['word_seg'] != '']"
   ]
  },
  {
   "cell_type": "code",
   "execution_count": 71,
   "metadata": {},
   "outputs": [
    {
     "data": {
      "text/html": [
       "<div>\n",
       "<style scoped>\n",
       "    .dataframe tbody tr th:only-of-type {\n",
       "        vertical-align: middle;\n",
       "    }\n",
       "\n",
       "    .dataframe tbody tr th {\n",
       "        vertical-align: top;\n",
       "    }\n",
       "\n",
       "    .dataframe thead th {\n",
       "        text-align: right;\n",
       "    }\n",
       "</style>\n",
       "<table border=\"1\" class=\"dataframe\">\n",
       "  <thead>\n",
       "    <tr style=\"text-align: right;\">\n",
       "      <th></th>\n",
       "      <th>title</th>\n",
       "      <th>url</th>\n",
       "      <th>ctime</th>\n",
       "      <th>label_type</th>\n",
       "      <th>label_property</th>\n",
       "      <th>label_article</th>\n",
       "      <th>code</th>\n",
       "      <th>company</th>\n",
       "      <th>industry</th>\n",
       "    </tr>\n",
       "  </thead>\n",
       "  <tbody>\n",
       "    <tr>\n",
       "      <th>0</th>\n",
       "      <td>国家能源局：优先建设平价上网风电、光伏发电项目</td>\n",
       "      <td>https://news.10jqka.com.cn/m610764673/</td>\n",
       "      <td>1554892969</td>\n",
       "      <td>新闻</td>\n",
       "      <td>中性</td>\n",
       "      <td>50011009_光伏概念</td>\n",
       "      <td>600207</td>\n",
       "      <td>安彩高科</td>\n",
       "      <td>燃气</td>\n",
       "    </tr>\n",
       "    <tr>\n",
       "      <th>1</th>\n",
       "      <td>“性价比”：光伏企业走向平价关键词</td>\n",
       "      <td>https://news.10jqka.com.cn/m610761460/</td>\n",
       "      <td>1554890486</td>\n",
       "      <td>新闻</td>\n",
       "      <td>中性</td>\n",
       "      <td>50010720_光伏概念</td>\n",
       "      <td>600207</td>\n",
       "      <td>安彩高科</td>\n",
       "      <td>燃气</td>\n",
       "    </tr>\n",
       "    <tr>\n",
       "      <th>2</th>\n",
       "      <td>国家能源局：先行确定一批2019年度可开工建设的平价上网风电、光伏发电项目</td>\n",
       "      <td>https://news.10jqka.com.cn/m610759719/</td>\n",
       "      <td>1554887065</td>\n",
       "      <td>新闻</td>\n",
       "      <td>中性</td>\n",
       "      <td>50011009_光伏概念</td>\n",
       "      <td>600207</td>\n",
       "      <td>安彩高科</td>\n",
       "      <td>燃气</td>\n",
       "    </tr>\n",
       "    <tr>\n",
       "      <th>3</th>\n",
       "      <td>安彩高科2018年营收增稳增 打赢经营和机制建设攻坚战</td>\n",
       "      <td>https://news.10jqka.com.cn/m610424435/</td>\n",
       "      <td>1553263893</td>\n",
       "      <td>新闻</td>\n",
       "      <td>中性</td>\n",
       "      <td>50003432_安彩高科,50000428_年度报告</td>\n",
       "      <td>600207</td>\n",
       "      <td>安彩高科</td>\n",
       "      <td>燃气</td>\n",
       "    </tr>\n",
       "    <tr>\n",
       "      <th>4</th>\n",
       "      <td>公告解读：安彩高科去年全年亏损3.33亿</td>\n",
       "      <td>https://news.10jqka.com.cn/m610418116/</td>\n",
       "      <td>1553250734</td>\n",
       "      <td>新闻</td>\n",
       "      <td>NaN</td>\n",
       "      <td>50000272_定期报告</td>\n",
       "      <td>600207</td>\n",
       "      <td>安彩高科</td>\n",
       "      <td>燃气</td>\n",
       "    </tr>\n",
       "  </tbody>\n",
       "</table>\n",
       "</div>"
      ],
      "text/plain": [
       "                                   title  \\\n",
       "0                国家能源局：优先建设平价上网风电、光伏发电项目   \n",
       "1                      “性价比”：光伏企业走向平价关键词   \n",
       "2  国家能源局：先行确定一批2019年度可开工建设的平价上网风电、光伏发电项目   \n",
       "3            安彩高科2018年营收增稳增 打赢经营和机制建设攻坚战   \n",
       "4                   公告解读：安彩高科去年全年亏损3.33亿   \n",
       "\n",
       "                                      url       ctime label_type  \\\n",
       "0  https://news.10jqka.com.cn/m610764673/  1554892969         新闻   \n",
       "1  https://news.10jqka.com.cn/m610761460/  1554890486         新闻   \n",
       "2  https://news.10jqka.com.cn/m610759719/  1554887065         新闻   \n",
       "3  https://news.10jqka.com.cn/m610424435/  1553263893         新闻   \n",
       "4  https://news.10jqka.com.cn/m610418116/  1553250734         新闻   \n",
       "\n",
       "  label_property                label_article    code company industry  \n",
       "0             中性                50011009_光伏概念  600207    安彩高科       燃气  \n",
       "1             中性                50010720_光伏概念  600207    安彩高科       燃气  \n",
       "2             中性                50011009_光伏概念  600207    安彩高科       燃气  \n",
       "3             中性  50003432_安彩高科,50000428_年度报告  600207    安彩高科       燃气  \n",
       "4            NaN                50000272_定期报告  600207    安彩高科       燃气  "
      ]
     },
     "execution_count": 71,
     "metadata": {},
     "output_type": "execute_result"
    }
   ],
   "source": [
    "my_a_news_all = pd.read_csv(\"../a_stock_news/result.csv\",encoding='utf-8',index_col = False, delimiter=',' )\n",
    "my_a_news_all.head()"
   ]
  },
  {
   "cell_type": "code",
   "execution_count": 72,
   "metadata": {},
   "outputs": [
    {
     "data": {
      "text/html": [
       "<div>\n",
       "<style scoped>\n",
       "    .dataframe tbody tr th:only-of-type {\n",
       "        vertical-align: middle;\n",
       "    }\n",
       "\n",
       "    .dataframe tbody tr th {\n",
       "        vertical-align: top;\n",
       "    }\n",
       "\n",
       "    .dataframe thead th {\n",
       "        text-align: right;\n",
       "    }\n",
       "</style>\n",
       "<table border=\"1\" class=\"dataframe\">\n",
       "  <thead>\n",
       "    <tr style=\"text-align: right;\">\n",
       "      <th></th>\n",
       "      <th>title</th>\n",
       "    </tr>\n",
       "  </thead>\n",
       "  <tbody>\n",
       "    <tr>\n",
       "      <th>0</th>\n",
       "      <td>国家能源局：优先建设平价上网风电、光伏发电项目</td>\n",
       "    </tr>\n",
       "    <tr>\n",
       "      <th>1</th>\n",
       "      <td>“性价比”：光伏企业走向平价关键词</td>\n",
       "    </tr>\n",
       "    <tr>\n",
       "      <th>2</th>\n",
       "      <td>国家能源局：先行确定一批2019年度可开工建设的平价上网风电、光伏发电项目</td>\n",
       "    </tr>\n",
       "    <tr>\n",
       "      <th>3</th>\n",
       "      <td>安彩高科2018年营收增稳增 打赢经营和机制建设攻坚战</td>\n",
       "    </tr>\n",
       "    <tr>\n",
       "      <th>4</th>\n",
       "      <td>公告解读：安彩高科去年全年亏损3.33亿</td>\n",
       "    </tr>\n",
       "  </tbody>\n",
       "</table>\n",
       "</div>"
      ],
      "text/plain": [
       "                                   title\n",
       "0                国家能源局：优先建设平价上网风电、光伏发电项目\n",
       "1                      “性价比”：光伏企业走向平价关键词\n",
       "2  国家能源局：先行确定一批2019年度可开工建设的平价上网风电、光伏发电项目\n",
       "3            安彩高科2018年营收增稳增 打赢经营和机制建设攻坚战\n",
       "4                   公告解读：安彩高科去年全年亏损3.33亿"
      ]
     },
     "execution_count": 72,
     "metadata": {},
     "output_type": "execute_result"
    }
   ],
   "source": [
    "my_a_news_all = my_a_news_all.drop(['ctime','label_type','label_article','industry','url','label_property','code','company'],axis=1)\n",
    "my_a_news_all.head()"
   ]
  },
  {
   "cell_type": "code",
   "execution_count": 73,
   "metadata": {},
   "outputs": [
    {
     "data": {
      "text/html": [
       "<div>\n",
       "<style scoped>\n",
       "    .dataframe tbody tr th:only-of-type {\n",
       "        vertical-align: middle;\n",
       "    }\n",
       "\n",
       "    .dataframe tbody tr th {\n",
       "        vertical-align: top;\n",
       "    }\n",
       "\n",
       "    .dataframe thead th {\n",
       "        text-align: right;\n",
       "    }\n",
       "</style>\n",
       "<table border=\"1\" class=\"dataframe\">\n",
       "  <thead>\n",
       "    <tr style=\"text-align: right;\">\n",
       "      <th></th>\n",
       "      <th>title</th>\n",
       "      <th>noun</th>\n",
       "    </tr>\n",
       "  </thead>\n",
       "  <tbody>\n",
       "    <tr>\n",
       "      <th>0</th>\n",
       "      <td>国家能源局：优先建设平价上网风电、光伏发电项目</td>\n",
       "      <td>O O O O O O O O O O O O O O O O O O O O O O O</td>\n",
       "    </tr>\n",
       "    <tr>\n",
       "      <th>1</th>\n",
       "      <td>“性价比”：光伏企业走向平价关键词</td>\n",
       "      <td>O O O O O O O O O O O O O O O O O</td>\n",
       "    </tr>\n",
       "    <tr>\n",
       "      <th>2</th>\n",
       "      <td>国家能源局：先行确定一批2019年度可开工建设的平价上网风电、光伏发电项目</td>\n",
       "      <td>O O O O O O O O O O O O O O O O O O O O O O O ...</td>\n",
       "    </tr>\n",
       "    <tr>\n",
       "      <th>3</th>\n",
       "      <td>安彩高科2018年营收增稳增 打赢经营和机制建设攻坚战</td>\n",
       "      <td>O O O O O O O O O O O O O O O O O O O O O O O ...</td>\n",
       "    </tr>\n",
       "    <tr>\n",
       "      <th>4</th>\n",
       "      <td>公告解读：安彩高科去年全年亏损3.33亿</td>\n",
       "      <td>O O O O O O O O O O O O O O O O O O O O</td>\n",
       "    </tr>\n",
       "  </tbody>\n",
       "</table>\n",
       "</div>"
      ],
      "text/plain": [
       "                                   title  \\\n",
       "0                国家能源局：优先建设平价上网风电、光伏发电项目   \n",
       "1                      “性价比”：光伏企业走向平价关键词   \n",
       "2  国家能源局：先行确定一批2019年度可开工建设的平价上网风电、光伏发电项目   \n",
       "3            安彩高科2018年营收增稳增 打赢经营和机制建设攻坚战   \n",
       "4                   公告解读：安彩高科去年全年亏损3.33亿   \n",
       "\n",
       "                                                noun  \n",
       "0      O O O O O O O O O O O O O O O O O O O O O O O  \n",
       "1                  O O O O O O O O O O O O O O O O O  \n",
       "2  O O O O O O O O O O O O O O O O O O O O O O O ...  \n",
       "3  O O O O O O O O O O O O O O O O O O O O O O O ...  \n",
       "4            O O O O O O O O O O O O O O O O O O O O  "
      ]
     },
     "execution_count": 73,
     "metadata": {},
     "output_type": "execute_result"
    }
   ],
   "source": [
    "my_a_news_all['noun'] = my_a_news_all['title'].apply(cut_word)\n",
    "my_a_news_all.head()"
   ]
  },
  {
   "cell_type": "code",
   "execution_count": 74,
   "metadata": {},
   "outputs": [
    {
     "data": {
      "text/html": [
       "<div>\n",
       "<style scoped>\n",
       "    .dataframe tbody tr th:only-of-type {\n",
       "        vertical-align: middle;\n",
       "    }\n",
       "\n",
       "    .dataframe tbody tr th {\n",
       "        vertical-align: top;\n",
       "    }\n",
       "\n",
       "    .dataframe thead th {\n",
       "        text-align: right;\n",
       "    }\n",
       "</style>\n",
       "<table border=\"1\" class=\"dataframe\">\n",
       "  <thead>\n",
       "    <tr style=\"text-align: right;\">\n",
       "      <th></th>\n",
       "      <th>title</th>\n",
       "      <th>noun</th>\n",
       "      <th>word_seg</th>\n",
       "    </tr>\n",
       "  </thead>\n",
       "  <tbody>\n",
       "    <tr>\n",
       "      <th>0</th>\n",
       "      <td>国家能源局：优先建设平价上网风电、光伏发电项目</td>\n",
       "      <td>O O O O O O O O O O O O O O O O O O O O O O O</td>\n",
       "      <td>国家能源局：优先建设平价上网风电、光伏发电项目</td>\n",
       "    </tr>\n",
       "    <tr>\n",
       "      <th>1</th>\n",
       "      <td>“性价比”：光伏企业走向平价关键词</td>\n",
       "      <td>O O O O O O O O O O O O O O O O O</td>\n",
       "      <td>“性价比”：光伏企业走向平价关键词</td>\n",
       "    </tr>\n",
       "    <tr>\n",
       "      <th>2</th>\n",
       "      <td>国家能源局：先行确定一批2019年度可开工建设的平价上网风电、光伏发电项目</td>\n",
       "      <td>O O O O O O O O O O O O O O O O O O O O O O O ...</td>\n",
       "      <td>国家能源局：先行确定一批2019年度可开工建设的平价上网风电、光伏发电项目</td>\n",
       "    </tr>\n",
       "    <tr>\n",
       "      <th>3</th>\n",
       "      <td>安彩高科2018年营收增稳增 打赢经营和机制建设攻坚战</td>\n",
       "      <td>O O O O O O O O O O O O O O O O O O O O O O O ...</td>\n",
       "      <td>安彩高科2018年营收增稳增 打赢经营和机制建设攻坚战</td>\n",
       "    </tr>\n",
       "    <tr>\n",
       "      <th>4</th>\n",
       "      <td>公告解读：安彩高科去年全年亏损3.33亿</td>\n",
       "      <td>O O O O O O O O O O O O O O O O O O O O</td>\n",
       "      <td>公告解读：安彩高科去年全年亏损3.33亿</td>\n",
       "    </tr>\n",
       "  </tbody>\n",
       "</table>\n",
       "</div>"
      ],
      "text/plain": [
       "                                   title  \\\n",
       "0                国家能源局：优先建设平价上网风电、光伏发电项目   \n",
       "1                      “性价比”：光伏企业走向平价关键词   \n",
       "2  国家能源局：先行确定一批2019年度可开工建设的平价上网风电、光伏发电项目   \n",
       "3            安彩高科2018年营收增稳增 打赢经营和机制建设攻坚战   \n",
       "4                   公告解读：安彩高科去年全年亏损3.33亿   \n",
       "\n",
       "                                                noun  \\\n",
       "0      O O O O O O O O O O O O O O O O O O O O O O O   \n",
       "1                  O O O O O O O O O O O O O O O O O   \n",
       "2  O O O O O O O O O O O O O O O O O O O O O O O ...   \n",
       "3  O O O O O O O O O O O O O O O O O O O O O O O ...   \n",
       "4            O O O O O O O O O O O O O O O O O O O O   \n",
       "\n",
       "                                word_seg  \n",
       "0                国家能源局：优先建设平价上网风电、光伏发电项目  \n",
       "1                      “性价比”：光伏企业走向平价关键词  \n",
       "2  国家能源局：先行确定一批2019年度可开工建设的平价上网风电、光伏发电项目  \n",
       "3            安彩高科2018年营收增稳增 打赢经营和机制建设攻坚战  \n",
       "4                   公告解读：安彩高科去年全年亏损3.33亿  "
      ]
     },
     "execution_count": 74,
     "metadata": {},
     "output_type": "execute_result"
    }
   ],
   "source": [
    "my_a_news_all['word_seg'] = my_a_news_all.apply(cut_word_tmp,axis=1)\n",
    "my_a_news_all.head()"
   ]
  },
  {
   "cell_type": "code",
   "execution_count": 77,
   "metadata": {},
   "outputs": [],
   "source": [
    "my_a_news_all = my_a_news_all[my_a_news_all['word_seg'] != '']"
   ]
  },
  {
   "cell_type": "code",
   "execution_count": 76,
   "metadata": {},
   "outputs": [
    {
     "data": {
      "text/plain": [
       "(65632, 3)"
      ]
     },
     "execution_count": 76,
     "metadata": {},
     "output_type": "execute_result"
    }
   ],
   "source": [
    "my_hk_news_all.shape"
   ]
  },
  {
   "cell_type": "code",
   "execution_count": 78,
   "metadata": {},
   "outputs": [
    {
     "data": {
      "text/plain": [
       "(304740, 3)"
      ]
     },
     "execution_count": 78,
     "metadata": {},
     "output_type": "execute_result"
    }
   ],
   "source": [
    "my_hk_news_all = my_hk_news_all.append(my_a_news_all)\n",
    "my_hk_news_all.shape"
   ]
  },
  {
   "cell_type": "code",
   "execution_count": 80,
   "metadata": {},
   "outputs": [
    {
     "data": {
      "text/plain": [
       "(171996, 3)"
      ]
     },
     "execution_count": 80,
     "metadata": {},
     "output_type": "execute_result"
    }
   ],
   "source": [
    "my_hk_news_all = my_hk_news_all.drop_duplicates(subset='title', keep='last')\n",
    "my_hk_news_all.shape"
   ]
  },
  {
   "cell_type": "code",
   "execution_count": 87,
   "metadata": {},
   "outputs": [],
   "source": [
    "from sklearn.model_selection import train_test_split\n",
    "train, test= train_test_split(my_hk_news_all, shuffle=True,test_size=0.1)"
   ]
  },
  {
   "cell_type": "code",
   "execution_count": 94,
   "metadata": {},
   "outputs": [
    {
     "data": {
      "text/plain": [
       "(17200, 3)"
      ]
     },
     "execution_count": 94,
     "metadata": {},
     "output_type": "execute_result"
    }
   ],
   "source": [
    "test.shape"
   ]
  },
  {
   "cell_type": "code",
   "execution_count": 96,
   "metadata": {},
   "outputs": [],
   "source": [
    "train[['noun','word_seg']].to_csv(\"stock_title_train.csv\",index=None, sep=',' )"
   ]
  },
  {
   "cell_type": "code",
   "execution_count": 97,
   "metadata": {},
   "outputs": [],
   "source": [
    "test[['noun','word_seg']].to_csv(\"stock_title_test.csv\",index=None, sep=',' )"
   ]
  },
  {
   "cell_type": "code",
   "execution_count": null,
   "metadata": {},
   "outputs": [],
   "source": []
  }
 ],
 "metadata": {
  "kernelspec": {
   "display_name": "Python 3",
   "language": "python",
   "name": "python3"
  },
  "language_info": {
   "codemirror_mode": {
    "name": "ipython",
    "version": 3
   },
   "file_extension": ".py",
   "mimetype": "text/x-python",
   "name": "python",
   "nbconvert_exporter": "python",
   "pygments_lexer": "ipython3",
   "version": "3.6.2"
  }
 },
 "nbformat": 4,
 "nbformat_minor": 2
}
