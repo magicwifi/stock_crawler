{
 "cells": [
  {
   "cell_type": "code",
   "execution_count": 1,
   "metadata": {},
   "outputs": [],
   "source": [
    "# coding:utf-8\n",
    "import arrow\n",
    "import qgrid\n",
    "import seaborn as sns\n",
    "import numpy as np\n",
    "import pandas as pd\n",
    "from pandas import Series, DataFrame\n",
    "\n",
    "import matplotlib.pyplot as plt\n",
    "%matplotlib inline\n",
    "\n",
    "sns.set(style='whitegrid')"
   ]
  },
  {
   "cell_type": "code",
   "execution_count": 3,
   "metadata": {},
   "outputs": [
    {
     "data": {
      "text/html": [
       "<div>\n",
       "<style scoped>\n",
       "    .dataframe tbody tr th:only-of-type {\n",
       "        vertical-align: middle;\n",
       "    }\n",
       "\n",
       "    .dataframe tbody tr th {\n",
       "        vertical-align: top;\n",
       "    }\n",
       "\n",
       "    .dataframe thead th {\n",
       "        text-align: right;\n",
       "    }\n",
       "</style>\n",
       "<table border=\"1\" class=\"dataframe\">\n",
       "  <thead>\n",
       "    <tr style=\"text-align: right;\">\n",
       "      <th></th>\n",
       "      <th>title</th>\n",
       "      <th>url</th>\n",
       "      <th>ctime</th>\n",
       "      <th>label_type</th>\n",
       "      <th>label_property</th>\n",
       "      <th>label_article</th>\n",
       "      <th>code</th>\n",
       "      <th>company</th>\n",
       "      <th>industry</th>\n",
       "    </tr>\n",
       "  </thead>\n",
       "  <tbody>\n",
       "    <tr>\n",
       "      <th>0</th>\n",
       "      <td>香港老牌发展商合和实业今日除牌 结束近47年上市地位</td>\n",
       "      <td>https://news.10jqka.com.cn/m611192568/</td>\n",
       "      <td>1556849040</td>\n",
       "      <td>新闻</td>\n",
       "      <td>中性</td>\n",
       "      <td>50019340_除牌,50023242_合和实业</td>\n",
       "      <td>HK0001</td>\n",
       "      <td>长和</td>\n",
       "      <td>综合</td>\n",
       "    </tr>\n",
       "    <tr>\n",
       "      <th>1</th>\n",
       "      <td>赫斯基首季盈利增32%胜预期</td>\n",
       "      <td>https://news.10jqka.com.cn/m611120552/</td>\n",
       "      <td>1556349944</td>\n",
       "      <td>新闻</td>\n",
       "      <td>中性</td>\n",
       "      <td>50000652_项目投资,50006059_原油价格</td>\n",
       "      <td>HK0001</td>\n",
       "      <td>长和</td>\n",
       "      <td>综合</td>\n",
       "    </tr>\n",
       "    <tr>\n",
       "      <th>2</th>\n",
       "      <td>17年之后 李嘉诚长和系公司再度申请在香港主板上市</td>\n",
       "      <td>https://m.21jingji.com/article/20190416/herald...</td>\n",
       "      <td>1555418857</td>\n",
       "      <td>新闻</td>\n",
       "      <td>中性</td>\n",
       "      <td>50004955_李嘉诚,50015283_主板</td>\n",
       "      <td>HK0001</td>\n",
       "      <td>长和</td>\n",
       "      <td>综合</td>\n",
       "    </tr>\n",
       "    <tr>\n",
       "      <th>3</th>\n",
       "      <td>李泽钜接手后的屈臣氏：前有丝芙兰后有KOL 腾讯阿里争买股份 谁才是最大的赢家</td>\n",
       "      <td>https://m.jiemian.com/article/3002332.html</td>\n",
       "      <td>1554091843</td>\n",
       "      <td>新闻</td>\n",
       "      <td>中性</td>\n",
       "      <td>50001089_腾讯,50004918_阿里巴巴</td>\n",
       "      <td>HK0001</td>\n",
       "      <td>长和</td>\n",
       "      <td>综合</td>\n",
       "    </tr>\n",
       "    <tr>\n",
       "      <th>4</th>\n",
       "      <td>东兴证券2019年4月十大金股</td>\n",
       "      <td>https://mp.weixin.qq.com/s?__biz=MzA3NTA2NTUwO...</td>\n",
       "      <td>1553913617</td>\n",
       "      <td>新闻</td>\n",
       "      <td>中性</td>\n",
       "      <td>50004118_东兴证券,50009633_风险警示</td>\n",
       "      <td>HK0001</td>\n",
       "      <td>长和</td>\n",
       "      <td>综合</td>\n",
       "    </tr>\n",
       "  </tbody>\n",
       "</table>\n",
       "</div>"
      ],
      "text/plain": [
       "                                     title  \\\n",
       "0               香港老牌发展商合和实业今日除牌 结束近47年上市地位   \n",
       "1                           赫斯基首季盈利增32%胜预期   \n",
       "2                17年之后 李嘉诚长和系公司再度申请在香港主板上市   \n",
       "3  李泽钜接手后的屈臣氏：前有丝芙兰后有KOL 腾讯阿里争买股份 谁才是最大的赢家   \n",
       "4                          东兴证券2019年4月十大金股   \n",
       "\n",
       "                                                 url       ctime label_type  \\\n",
       "0             https://news.10jqka.com.cn/m611192568/  1556849040         新闻   \n",
       "1             https://news.10jqka.com.cn/m611120552/  1556349944         新闻   \n",
       "2  https://m.21jingji.com/article/20190416/herald...  1555418857         新闻   \n",
       "3         https://m.jiemian.com/article/3002332.html  1554091843         新闻   \n",
       "4  https://mp.weixin.qq.com/s?__biz=MzA3NTA2NTUwO...  1553913617         新闻   \n",
       "\n",
       "  label_property                label_article    code company industry  \n",
       "0             中性    50019340_除牌,50023242_合和实业  HK0001      长和       综合  \n",
       "1             中性  50000652_项目投资,50006059_原油价格  HK0001      长和       综合  \n",
       "2             中性     50004955_李嘉诚,50015283_主板  HK0001      长和       综合  \n",
       "3             中性    50001089_腾讯,50004918_阿里巴巴  HK0001      长和       综合  \n",
       "4             中性  50004118_东兴证券,50009633_风险警示  HK0001      长和       综合  "
      ]
     },
     "execution_count": 3,
     "metadata": {},
     "output_type": "execute_result"
    }
   ],
   "source": [
    "trans_prov_allcount = pd.read_csv(\"../tmp_data/my_hk_news_all.csv\",encoding='utf-8',index_col = False, delimiter=',' )\n",
    "trans_prov_allcount.head()"
   ]
  },
  {
   "cell_type": "code",
   "execution_count": 4,
   "metadata": {},
   "outputs": [
    {
     "data": {
      "text/plain": [
       "新闻    65800\n",
       "Name: label_type, dtype: int64"
      ]
     },
     "execution_count": 4,
     "metadata": {},
     "output_type": "execute_result"
    }
   ],
   "source": [
    "trans_prov_allcount['label_type'].value_counts()"
   ]
  },
  {
   "cell_type": "code",
   "execution_count": 5,
   "metadata": {},
   "outputs": [
    {
     "data": {
      "text/plain": [
       "(59514, 9)"
      ]
     },
     "execution_count": 5,
     "metadata": {},
     "output_type": "execute_result"
    }
   ],
   "source": [
    "trans_prov_allcount= trans_prov_allcount.drop_duplicates(subset='title', keep='last')\n",
    "trans_prov_allcount.shape"
   ]
  },
  {
   "cell_type": "code",
   "execution_count": 6,
   "metadata": {},
   "outputs": [
    {
     "data": {
      "text/plain": [
       "中性    18303\n",
       "利好     9706\n",
       "利空     9397\n",
       "热门      179\n",
       "Name: label_property, dtype: int64"
      ]
     },
     "execution_count": 6,
     "metadata": {},
     "output_type": "execute_result"
    }
   ],
   "source": [
    "trans_prov_allcount['label_property'].value_counts()"
   ]
  },
  {
   "cell_type": "code",
   "execution_count": 7,
   "metadata": {},
   "outputs": [
    {
     "data": {
      "text/html": [
       "<div>\n",
       "<style scoped>\n",
       "    .dataframe tbody tr th:only-of-type {\n",
       "        vertical-align: middle;\n",
       "    }\n",
       "\n",
       "    .dataframe tbody tr th {\n",
       "        vertical-align: top;\n",
       "    }\n",
       "\n",
       "    .dataframe thead th {\n",
       "        text-align: right;\n",
       "    }\n",
       "</style>\n",
       "<table border=\"1\" class=\"dataframe\">\n",
       "  <thead>\n",
       "    <tr style=\"text-align: right;\">\n",
       "      <th></th>\n",
       "      <th>title</th>\n",
       "      <th>url</th>\n",
       "      <th>label_property</th>\n",
       "      <th>code</th>\n",
       "      <th>company</th>\n",
       "    </tr>\n",
       "  </thead>\n",
       "  <tbody>\n",
       "    <tr>\n",
       "      <th>1</th>\n",
       "      <td>赫斯基首季盈利增32%胜预期</td>\n",
       "      <td>https://news.10jqka.com.cn/m611120552/</td>\n",
       "      <td>中性</td>\n",
       "      <td>HK0001</td>\n",
       "      <td>长和</td>\n",
       "    </tr>\n",
       "    <tr>\n",
       "      <th>3</th>\n",
       "      <td>李泽钜接手后的屈臣氏：前有丝芙兰后有KOL 腾讯阿里争买股份 谁才是最大的赢家</td>\n",
       "      <td>https://m.jiemian.com/article/3002332.html</td>\n",
       "      <td>中性</td>\n",
       "      <td>HK0001</td>\n",
       "      <td>长和</td>\n",
       "    </tr>\n",
       "    <tr>\n",
       "      <th>4</th>\n",
       "      <td>东兴证券2019年4月十大金股</td>\n",
       "      <td>https://mp.weixin.qq.com/s?__biz=MzA3NTA2NTUwO...</td>\n",
       "      <td>中性</td>\n",
       "      <td>HK0001</td>\n",
       "      <td>长和</td>\n",
       "    </tr>\n",
       "    <tr>\n",
       "      <th>5</th>\n",
       "      <td>李泽钜接棒一年 长和系继续全球收购</td>\n",
       "      <td>https://news.10jqka.com.cn/m610461495/</td>\n",
       "      <td>中性</td>\n",
       "      <td>HK0001</td>\n",
       "      <td>长和</td>\n",
       "    </tr>\n",
       "    <tr>\n",
       "      <th>7</th>\n",
       "      <td>瑞银华宝：下调目标价至107元，评级“买入”</td>\n",
       "      <td>https://news.10jqka.com.cn/m610426466/</td>\n",
       "      <td>NaN</td>\n",
       "      <td>HK0001</td>\n",
       "      <td>长和</td>\n",
       "    </tr>\n",
       "  </tbody>\n",
       "</table>\n",
       "</div>"
      ],
      "text/plain": [
       "                                     title  \\\n",
       "1                           赫斯基首季盈利增32%胜预期   \n",
       "3  李泽钜接手后的屈臣氏：前有丝芙兰后有KOL 腾讯阿里争买股份 谁才是最大的赢家   \n",
       "4                          东兴证券2019年4月十大金股   \n",
       "5                        李泽钜接棒一年 长和系继续全球收购   \n",
       "7                   瑞银华宝：下调目标价至107元，评级“买入”   \n",
       "\n",
       "                                                 url label_property    code  \\\n",
       "1             https://news.10jqka.com.cn/m611120552/             中性  HK0001   \n",
       "3         https://m.jiemian.com/article/3002332.html             中性  HK0001   \n",
       "4  https://mp.weixin.qq.com/s?__biz=MzA3NTA2NTUwO...             中性  HK0001   \n",
       "5             https://news.10jqka.com.cn/m610461495/             中性  HK0001   \n",
       "7             https://news.10jqka.com.cn/m610426466/            NaN  HK0001   \n",
       "\n",
       "  company  \n",
       "1      长和  \n",
       "3      长和  \n",
       "4      长和  \n",
       "5      长和  \n",
       "7      长和  "
      ]
     },
     "execution_count": 7,
     "metadata": {},
     "output_type": "execute_result"
    }
   ],
   "source": [
    "trans_prov_allcount = trans_prov_allcount.drop(['ctime','label_type','label_article','industry'],axis=1)\n",
    "trans_prov_allcount.head()"
   ]
  },
  {
   "cell_type": "code",
   "execution_count": 8,
   "metadata": {},
   "outputs": [
    {
     "data": {
      "text/plain": [
       "(37571, 5)"
      ]
     },
     "execution_count": 8,
     "metadata": {},
     "output_type": "execute_result"
    }
   ],
   "source": [
    "trans_prov_allcount = trans_prov_allcount.dropna()\n",
    "trans_prov_allcount.shape"
   ]
  },
  {
   "cell_type": "code",
   "execution_count": 9,
   "metadata": {},
   "outputs": [],
   "source": [
    "trans_prov_allcount = trans_prov_allcount[trans_prov_allcount['label_property']!='热门']"
   ]
  },
  {
   "cell_type": "code",
   "execution_count": 10,
   "metadata": {},
   "outputs": [
    {
     "data": {
      "text/plain": [
       "(36003, 5)"
      ]
     },
     "execution_count": 10,
     "metadata": {},
     "output_type": "execute_result"
    }
   ],
   "source": [
    "def url_check(x):\n",
    "    if '10jqka' in x :\n",
    "        return True;\n",
    "    else:\n",
    "        return False\n",
    "\n",
    "trans_prov_allcount = trans_prov_allcount[trans_prov_allcount['url'].apply(url_check)]\n",
    "trans_prov_allcount.shape"
   ]
  },
  {
   "cell_type": "code",
   "execution_count": 11,
   "metadata": {},
   "outputs": [],
   "source": [
    "trans_prov_allcount.to_csv('my_hk_all_news_url.csv',index=None);"
   ]
  },
  {
   "cell_type": "code",
   "execution_count": null,
   "metadata": {},
   "outputs": [],
   "source": []
  }
 ],
 "metadata": {
  "kernelspec": {
   "display_name": "Python 3",
   "language": "python",
   "name": "python3"
  },
  "language_info": {
   "codemirror_mode": {
    "name": "ipython",
    "version": 3
   },
   "file_extension": ".py",
   "mimetype": "text/x-python",
   "name": "python",
   "nbconvert_exporter": "python",
   "pygments_lexer": "ipython3",
   "version": "3.6.2"
  }
 },
 "nbformat": 4,
 "nbformat_minor": 2
}
