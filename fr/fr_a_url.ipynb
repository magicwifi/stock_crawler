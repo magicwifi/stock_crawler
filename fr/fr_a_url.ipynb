{
 "cells": [
  {
   "cell_type": "code",
   "execution_count": 12,
   "metadata": {},
   "outputs": [],
   "source": [
    "# coding:utf-8\n",
    "import arrow\n",
    "import qgrid\n",
    "import seaborn as sns\n",
    "import numpy as np\n",
    "import pandas as pd\n",
    "from pandas import Series, DataFrame\n",
    "\n",
    "import matplotlib.pyplot as plt\n",
    "%matplotlib inline\n",
    "\n",
    "sns.set(style='whitegrid')"
   ]
  },
  {
   "cell_type": "code",
   "execution_count": 13,
   "metadata": {},
   "outputs": [
    {
     "data": {
      "text/html": [
       "<div>\n",
       "<style scoped>\n",
       "    .dataframe tbody tr th:only-of-type {\n",
       "        vertical-align: middle;\n",
       "    }\n",
       "\n",
       "    .dataframe tbody tr th {\n",
       "        vertical-align: top;\n",
       "    }\n",
       "\n",
       "    .dataframe thead th {\n",
       "        text-align: right;\n",
       "    }\n",
       "</style>\n",
       "<table border=\"1\" class=\"dataframe\">\n",
       "  <thead>\n",
       "    <tr style=\"text-align: right;\">\n",
       "      <th></th>\n",
       "      <th>title</th>\n",
       "      <th>url</th>\n",
       "      <th>ctime</th>\n",
       "      <th>label_type</th>\n",
       "      <th>label_property</th>\n",
       "      <th>label_article</th>\n",
       "      <th>code</th>\n",
       "      <th>company</th>\n",
       "      <th>industry</th>\n",
       "    </tr>\n",
       "  </thead>\n",
       "  <tbody>\n",
       "    <tr>\n",
       "      <th>0</th>\n",
       "      <td>国家能源局：优先建设平价上网风电、光伏发电项目</td>\n",
       "      <td>https://news.10jqka.com.cn/m610764673/</td>\n",
       "      <td>1554892969</td>\n",
       "      <td>新闻</td>\n",
       "      <td>中性</td>\n",
       "      <td>50011009_光伏概念</td>\n",
       "      <td>600207</td>\n",
       "      <td>安彩高科</td>\n",
       "      <td>燃气</td>\n",
       "    </tr>\n",
       "    <tr>\n",
       "      <th>1</th>\n",
       "      <td>“性价比”：光伏企业走向平价关键词</td>\n",
       "      <td>https://news.10jqka.com.cn/m610761460/</td>\n",
       "      <td>1554890486</td>\n",
       "      <td>新闻</td>\n",
       "      <td>中性</td>\n",
       "      <td>50010720_光伏概念</td>\n",
       "      <td>600207</td>\n",
       "      <td>安彩高科</td>\n",
       "      <td>燃气</td>\n",
       "    </tr>\n",
       "    <tr>\n",
       "      <th>2</th>\n",
       "      <td>国家能源局：先行确定一批2019年度可开工建设的平价上网风电、光伏发电项目</td>\n",
       "      <td>https://news.10jqka.com.cn/m610759719/</td>\n",
       "      <td>1554887065</td>\n",
       "      <td>新闻</td>\n",
       "      <td>中性</td>\n",
       "      <td>50011009_光伏概念</td>\n",
       "      <td>600207</td>\n",
       "      <td>安彩高科</td>\n",
       "      <td>燃气</td>\n",
       "    </tr>\n",
       "    <tr>\n",
       "      <th>3</th>\n",
       "      <td>安彩高科2018年营收增稳增 打赢经营和机制建设攻坚战</td>\n",
       "      <td>https://news.10jqka.com.cn/m610424435/</td>\n",
       "      <td>1553263893</td>\n",
       "      <td>新闻</td>\n",
       "      <td>中性</td>\n",
       "      <td>50003432_安彩高科,50000428_年度报告</td>\n",
       "      <td>600207</td>\n",
       "      <td>安彩高科</td>\n",
       "      <td>燃气</td>\n",
       "    </tr>\n",
       "    <tr>\n",
       "      <th>4</th>\n",
       "      <td>公告解读：安彩高科去年全年亏损3.33亿</td>\n",
       "      <td>https://news.10jqka.com.cn/m610418116/</td>\n",
       "      <td>1553250734</td>\n",
       "      <td>新闻</td>\n",
       "      <td>NaN</td>\n",
       "      <td>50000272_定期报告</td>\n",
       "      <td>600207</td>\n",
       "      <td>安彩高科</td>\n",
       "      <td>燃气</td>\n",
       "    </tr>\n",
       "  </tbody>\n",
       "</table>\n",
       "</div>"
      ],
      "text/plain": [
       "                                   title  \\\n",
       "0                国家能源局：优先建设平价上网风电、光伏发电项目   \n",
       "1                      “性价比”：光伏企业走向平价关键词   \n",
       "2  国家能源局：先行确定一批2019年度可开工建设的平价上网风电、光伏发电项目   \n",
       "3            安彩高科2018年营收增稳增 打赢经营和机制建设攻坚战   \n",
       "4                   公告解读：安彩高科去年全年亏损3.33亿   \n",
       "\n",
       "                                      url       ctime label_type  \\\n",
       "0  https://news.10jqka.com.cn/m610764673/  1554892969         新闻   \n",
       "1  https://news.10jqka.com.cn/m610761460/  1554890486         新闻   \n",
       "2  https://news.10jqka.com.cn/m610759719/  1554887065         新闻   \n",
       "3  https://news.10jqka.com.cn/m610424435/  1553263893         新闻   \n",
       "4  https://news.10jqka.com.cn/m610418116/  1553250734         新闻   \n",
       "\n",
       "  label_property                label_article    code company industry  \n",
       "0             中性                50011009_光伏概念  600207    安彩高科       燃气  \n",
       "1             中性                50010720_光伏概念  600207    安彩高科       燃气  \n",
       "2             中性                50011009_光伏概念  600207    安彩高科       燃气  \n",
       "3             中性  50003432_安彩高科,50000428_年度报告  600207    安彩高科       燃气  \n",
       "4            NaN                50000272_定期报告  600207    安彩高科       燃气  "
      ]
     },
     "execution_count": 13,
     "metadata": {},
     "output_type": "execute_result"
    }
   ],
   "source": [
    "trans_prov_allcount = pd.read_csv(\"../a_stock_news/result.csv\",encoding='utf-8',index_col = False, delimiter=',' )\n",
    "trans_prov_allcount.head()"
   ]
  },
  {
   "cell_type": "code",
   "execution_count": 14,
   "metadata": {},
   "outputs": [
    {
     "data": {
      "text/plain": [
       "新闻            204826\n",
       "公告             18660\n",
       "研报             12928\n",
       "推广              3486\n",
       "label_type        23\n",
       "Name: label_type, dtype: int64"
      ]
     },
     "execution_count": 14,
     "metadata": {},
     "output_type": "execute_result"
    }
   ],
   "source": [
    "trans_prov_allcount['label_type'].value_counts()"
   ]
  },
  {
   "cell_type": "code",
   "execution_count": 15,
   "metadata": {},
   "outputs": [
    {
     "data": {
      "text/plain": [
       "(114790, 9)"
      ]
     },
     "execution_count": 15,
     "metadata": {},
     "output_type": "execute_result"
    }
   ],
   "source": [
    "trans_prov_allcount= trans_prov_allcount.drop_duplicates(subset='title', keep='last')\n",
    "trans_prov_allcount.shape"
   ]
  },
  {
   "cell_type": "code",
   "execution_count": 16,
   "metadata": {},
   "outputs": [
    {
     "data": {
      "text/plain": [
       "中性                26497\n",
       "利空                11624\n",
       "利好                 6550\n",
       "热门                  328\n",
       "label_property        1\n",
       "Name: label_property, dtype: int64"
      ]
     },
     "execution_count": 16,
     "metadata": {},
     "output_type": "execute_result"
    }
   ],
   "source": [
    "trans_prov_allcount['label_property'].value_counts()"
   ]
  },
  {
   "cell_type": "code",
   "execution_count": 17,
   "metadata": {},
   "outputs": [
    {
     "data": {
      "text/html": [
       "<div>\n",
       "<style scoped>\n",
       "    .dataframe tbody tr th:only-of-type {\n",
       "        vertical-align: middle;\n",
       "    }\n",
       "\n",
       "    .dataframe tbody tr th {\n",
       "        vertical-align: top;\n",
       "    }\n",
       "\n",
       "    .dataframe thead th {\n",
       "        text-align: right;\n",
       "    }\n",
       "</style>\n",
       "<table border=\"1\" class=\"dataframe\">\n",
       "  <thead>\n",
       "    <tr style=\"text-align: right;\">\n",
       "      <th></th>\n",
       "      <th>title</th>\n",
       "      <th>url</th>\n",
       "      <th>label_property</th>\n",
       "      <th>code</th>\n",
       "      <th>company</th>\n",
       "    </tr>\n",
       "  </thead>\n",
       "  <tbody>\n",
       "    <tr>\n",
       "      <th>49905</th>\n",
       "      <td>海通证券:2019-04-29融资融券明细</td>\n",
       "      <td>https://news.10jqka.com.cn/m611161973/</td>\n",
       "      <td>NaN</td>\n",
       "      <td>600837</td>\n",
       "      <td>海通证券</td>\n",
       "    </tr>\n",
       "    <tr>\n",
       "      <th>49914</th>\n",
       "      <td>自营业务释放弹性，定增夯实实力</td>\n",
       "      <td>https://news.10jqka.com.cn/m19104211_sr/</td>\n",
       "      <td>NaN</td>\n",
       "      <td>600837</td>\n",
       "      <td>海通证券</td>\n",
       "    </tr>\n",
       "    <tr>\n",
       "      <th>49915</th>\n",
       "      <td>海通证券详式权益变动报告书</td>\n",
       "      <td>https://news.10jqka.com.cn/tapp/notice.html#se...</td>\n",
       "      <td>NaN</td>\n",
       "      <td>600837</td>\n",
       "      <td>海通证券</td>\n",
       "    </tr>\n",
       "    <tr>\n",
       "      <th>49916</th>\n",
       "      <td>海通证券关于股东权益变动的提示性公告</td>\n",
       "      <td>https://news.10jqka.com.cn/tapp/notice.html#se...</td>\n",
       "      <td>NaN</td>\n",
       "      <td>600837</td>\n",
       "      <td>海通证券</td>\n",
       "    </tr>\n",
       "    <tr>\n",
       "      <th>49918</th>\n",
       "      <td>天风证券股份有限公司上调海通证券评级</td>\n",
       "      <td>https://news.10jqka.com.cn/m611103233/</td>\n",
       "      <td>NaN</td>\n",
       "      <td>600837</td>\n",
       "      <td>海通证券</td>\n",
       "    </tr>\n",
       "  </tbody>\n",
       "</table>\n",
       "</div>"
      ],
      "text/plain": [
       "                       title  \\\n",
       "49905  海通证券:2019-04-29融资融券明细   \n",
       "49914        自营业务释放弹性，定增夯实实力   \n",
       "49915          海通证券详式权益变动报告书   \n",
       "49916     海通证券关于股东权益变动的提示性公告   \n",
       "49918     天风证券股份有限公司上调海通证券评级   \n",
       "\n",
       "                                                     url label_property  \\\n",
       "49905             https://news.10jqka.com.cn/m611161973/            NaN   \n",
       "49914           https://news.10jqka.com.cn/m19104211_sr/            NaN   \n",
       "49915  https://news.10jqka.com.cn/tapp/notice.html#se...            NaN   \n",
       "49916  https://news.10jqka.com.cn/tapp/notice.html#se...            NaN   \n",
       "49918             https://news.10jqka.com.cn/m611103233/            NaN   \n",
       "\n",
       "         code company  \n",
       "49905  600837    海通证券  \n",
       "49914  600837    海通证券  \n",
       "49915  600837    海通证券  \n",
       "49916  600837    海通证券  \n",
       "49918  600837    海通证券  "
      ]
     },
     "execution_count": 17,
     "metadata": {},
     "output_type": "execute_result"
    }
   ],
   "source": [
    "trans_prov_allcount = trans_prov_allcount.drop(['ctime','label_type','label_article','industry'],axis=1)\n",
    "trans_prov_allcount.head()"
   ]
  },
  {
   "cell_type": "code",
   "execution_count": 18,
   "metadata": {},
   "outputs": [
    {
     "data": {
      "text/plain": [
       "(45000, 5)"
      ]
     },
     "execution_count": 18,
     "metadata": {},
     "output_type": "execute_result"
    }
   ],
   "source": [
    "trans_prov_allcount = trans_prov_allcount.dropna()\n",
    "trans_prov_allcount.shape"
   ]
  },
  {
   "cell_type": "code",
   "execution_count": 23,
   "metadata": {},
   "outputs": [],
   "source": [
    "def url_check(x):\n",
    "    if '10jqka' in x :\n",
    "        return True;\n",
    "    else:\n",
    "        return False\n",
    "\n",
    "trans_prov_allcount = trans_prov_allcount[trans_prov_allcount['url'].apply(url_check)]"
   ]
  },
  {
   "cell_type": "code",
   "execution_count": 24,
   "metadata": {},
   "outputs": [],
   "source": [
    "trans_prov_allcount = trans_prov_allcount[trans_prov_allcount['label_property']!='热门']"
   ]
  },
  {
   "cell_type": "code",
   "execution_count": 25,
   "metadata": {},
   "outputs": [],
   "source": [
    "trans_prov_allcount.to_csv('my_astock_all_news_url.csv',index=None);"
   ]
  },
  {
   "cell_type": "code",
   "execution_count": 26,
   "metadata": {},
   "outputs": [
    {
     "data": {
      "text/html": [
       "<div>\n",
       "<style scoped>\n",
       "    .dataframe tbody tr th:only-of-type {\n",
       "        vertical-align: middle;\n",
       "    }\n",
       "\n",
       "    .dataframe tbody tr th {\n",
       "        vertical-align: top;\n",
       "    }\n",
       "\n",
       "    .dataframe thead th {\n",
       "        text-align: right;\n",
       "    }\n",
       "</style>\n",
       "<table border=\"1\" class=\"dataframe\">\n",
       "  <thead>\n",
       "    <tr style=\"text-align: right;\">\n",
       "      <th></th>\n",
       "      <th>title</th>\n",
       "      <th>url</th>\n",
       "      <th>label_property</th>\n",
       "      <th>code</th>\n",
       "      <th>company</th>\n",
       "    </tr>\n",
       "  </thead>\n",
       "  <tbody>\n",
       "    <tr>\n",
       "      <th>49929</th>\n",
       "      <td>证监会已接收百金化工IPO材料 去年归母净利润1.89亿元</td>\n",
       "      <td>https://news.10jqka.com.cn/m611032477/</td>\n",
       "      <td>中性</td>\n",
       "      <td>600837</td>\n",
       "      <td>海通证券</td>\n",
       "    </tr>\n",
       "    <tr>\n",
       "      <th>49934</th>\n",
       "      <td>海通证券荀玉根：基金持仓再次聚焦消费</td>\n",
       "      <td>https://news.10jqka.com.cn/m611004613/</td>\n",
       "      <td>中性</td>\n",
       "      <td>600837</td>\n",
       "      <td>海通证券</td>\n",
       "    </tr>\n",
       "    <tr>\n",
       "      <th>49942</th>\n",
       "      <td>海通证券获得首批券商PC Level-2行情经营许可</td>\n",
       "      <td>https://news.10jqka.com.cn/m610977714/</td>\n",
       "      <td>中性</td>\n",
       "      <td>600837</td>\n",
       "      <td>海通证券</td>\n",
       "    </tr>\n",
       "    <tr>\n",
       "      <th>50008</th>\n",
       "      <td>安彩高科2018年营收增稳增 打赢经营和机制建设攻坚战</td>\n",
       "      <td>https://news.10jqka.com.cn/m610424435/</td>\n",
       "      <td>中性</td>\n",
       "      <td>600207</td>\n",
       "      <td>安彩高科</td>\n",
       "    </tr>\n",
       "    <tr>\n",
       "      <th>50014</th>\n",
       "      <td>安彩高科一合资公司完成工商登记</td>\n",
       "      <td>https://news.10jqka.com.cn/m609169752/</td>\n",
       "      <td>利好</td>\n",
       "      <td>600207</td>\n",
       "      <td>安彩高科</td>\n",
       "    </tr>\n",
       "  </tbody>\n",
       "</table>\n",
       "</div>"
      ],
      "text/plain": [
       "                               title                                     url  \\\n",
       "49929  证监会已接收百金化工IPO材料 去年归母净利润1.89亿元  https://news.10jqka.com.cn/m611032477/   \n",
       "49934             海通证券荀玉根：基金持仓再次聚焦消费  https://news.10jqka.com.cn/m611004613/   \n",
       "49942     海通证券获得首批券商PC Level-2行情经营许可  https://news.10jqka.com.cn/m610977714/   \n",
       "50008    安彩高科2018年营收增稳增 打赢经营和机制建设攻坚战  https://news.10jqka.com.cn/m610424435/   \n",
       "50014                安彩高科一合资公司完成工商登记  https://news.10jqka.com.cn/m609169752/   \n",
       "\n",
       "      label_property    code company  \n",
       "49929             中性  600837    海通证券  \n",
       "49934             中性  600837    海通证券  \n",
       "49942             中性  600837    海通证券  \n",
       "50008             中性  600207    安彩高科  \n",
       "50014             利好  600207    安彩高科  "
      ]
     },
     "execution_count": 26,
     "metadata": {},
     "output_type": "execute_result"
    }
   ],
   "source": [
    "trans_prov_allcount.head()"
   ]
  },
  {
   "cell_type": "code",
   "execution_count": null,
   "metadata": {},
   "outputs": [],
   "source": []
  }
 ],
 "metadata": {
  "kernelspec": {
   "display_name": "Python 3",
   "language": "python",
   "name": "python3"
  },
  "language_info": {
   "codemirror_mode": {
    "name": "ipython",
    "version": 3
   },
   "file_extension": ".py",
   "mimetype": "text/x-python",
   "name": "python",
   "nbconvert_exporter": "python",
   "pygments_lexer": "ipython3",
   "version": "3.6.2"
  }
 },
 "nbformat": 4,
 "nbformat_minor": 2
}
