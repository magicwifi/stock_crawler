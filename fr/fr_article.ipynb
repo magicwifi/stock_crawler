{
 "cells": [
  {
   "cell_type": "code",
   "execution_count": 7,
   "metadata": {},
   "outputs": [
    {
     "ename": "ModuleNotFoundError",
     "evalue": "No module named 'TextClassification'",
     "output_type": "error",
     "traceback": [
      "\u001b[0;31m---------------------------------------------------------------------------\u001b[0m",
      "\u001b[0;31mModuleNotFoundError\u001b[0m                       Traceback (most recent call last)",
      "\u001b[0;32m<ipython-input-7-a734993c342c>\u001b[0m in \u001b[0;36m<module>\u001b[0;34m\u001b[0m\n\u001b[1;32m      7\u001b[0m \u001b[0;32mfrom\u001b[0m \u001b[0mpandas\u001b[0m \u001b[0;32mimport\u001b[0m \u001b[0mSeries\u001b[0m\u001b[0;34m,\u001b[0m \u001b[0mDataFrame\u001b[0m\u001b[0;34m\u001b[0m\u001b[0m\n\u001b[1;32m      8\u001b[0m \u001b[0;34m\u001b[0m\u001b[0m\n\u001b[0;32m----> 9\u001b[0;31m \u001b[0;32mfrom\u001b[0m \u001b[0mTextClassification\u001b[0m\u001b[0;34m.\u001b[0m\u001b[0mTextClassification\u001b[0m \u001b[0;32mimport\u001b[0m \u001b[0mload_data\u001b[0m\u001b[0;34m\u001b[0m\u001b[0m\n\u001b[0m\u001b[1;32m     10\u001b[0m \u001b[0;32mfrom\u001b[0m \u001b[0msklearn\u001b[0m\u001b[0;34m.\u001b[0m\u001b[0mmodel_selection\u001b[0m \u001b[0;32mimport\u001b[0m \u001b[0mtrain_test_split\u001b[0m\u001b[0;34m\u001b[0m\u001b[0m\n\u001b[1;32m     11\u001b[0m \u001b[0;34m\u001b[0m\u001b[0m\n",
      "\u001b[0;31mModuleNotFoundError\u001b[0m: No module named 'TextClassification'"
     ]
    }
   ],
   "source": [
    "# coding:utf-8\n",
    "import arrow\n",
    "import qgrid\n",
    "import seaborn as sns\n",
    "import numpy as np\n",
    "import pandas as pd\n",
    "from pandas import Series, DataFrame\n",
    "    \n",
    "from TextClassification.TextClassification import load_data\n",
    "from sklearn.model_selection import train_test_split\n",
    "\n",
    "\n",
    "import matplotlib.pyplot as plt\n",
    "%matplotlib inline\n",
    "\n",
    "sns.set(style='whitegrid')"
   ]
  },
  {
   "cell_type": "code",
   "execution_count": 2,
   "metadata": {},
   "outputs": [
    {
     "data": {
      "text/html": [
       "<div>\n",
       "<style scoped>\n",
       "    .dataframe tbody tr th:only-of-type {\n",
       "        vertical-align: middle;\n",
       "    }\n",
       "\n",
       "    .dataframe tbody tr th {\n",
       "        vertical-align: top;\n",
       "    }\n",
       "\n",
       "    .dataframe thead th {\n",
       "        text-align: right;\n",
       "    }\n",
       "</style>\n",
       "<table border=\"1\" class=\"dataframe\">\n",
       "  <thead>\n",
       "    <tr style=\"text-align: right;\">\n",
       "      <th></th>\n",
       "      <th>code</th>\n",
       "      <th>company</th>\n",
       "      <th>label_property</th>\n",
       "      <th>title</th>\n",
       "      <th>url</th>\n",
       "      <th>article</th>\n",
       "    </tr>\n",
       "  </thead>\n",
       "  <tbody>\n",
       "    <tr>\n",
       "      <th>0</th>\n",
       "      <td>HK0001</td>\n",
       "      <td>长和</td>\n",
       "      <td>中性</td>\n",
       "      <td>赫斯基首季盈利增32%胜预期</td>\n",
       "      <td>https://news.10jqka.com.cn/m611120552/</td>\n",
       "      <td>&lt;p&gt;【财华社讯】&lt;a data-code=\"HK0001\" data-marketid=\"...</td>\n",
       "    </tr>\n",
       "    <tr>\n",
       "      <th>1</th>\n",
       "      <td>HK0001</td>\n",
       "      <td>长和</td>\n",
       "      <td>中性</td>\n",
       "      <td>李泽钜接手后的屈臣氏：前有丝芙兰后有KOL 腾讯阿里争买股份 谁才是最大的赢家</td>\n",
       "      <td>https://m.jiemian.com/article/3002332.html</td>\n",
       "      <td>&lt;p&gt;&lt;span&gt;图品来源：视觉中国&lt;/span&gt;&lt;/p&gt;&lt;p&gt;文 | 财联社 万千&lt;/p&gt;...</td>\n",
       "    </tr>\n",
       "    <tr>\n",
       "      <th>2</th>\n",
       "      <td>HK0001</td>\n",
       "      <td>长和</td>\n",
       "      <td>中性</td>\n",
       "      <td>东兴证券2019年4月十大金股</td>\n",
       "      <td>https://mp.weixin.qq.com/s?__biz=MzA3NTA2NTUwO...</td>\n",
       "      <td>&lt;p class=\"profile_meta\"&gt;\\n&lt;label class=\"profil...</td>\n",
       "    </tr>\n",
       "    <tr>\n",
       "      <th>3</th>\n",
       "      <td>HK0001</td>\n",
       "      <td>长和</td>\n",
       "      <td>中性</td>\n",
       "      <td>李泽钜接棒一年 长和系继续全球收购</td>\n",
       "      <td>https://news.10jqka.com.cn/m610461495/</td>\n",
       "      <td>&lt;p&gt;时代周报记者蔡颖发自广州&lt;/p&gt;&lt;p&gt;距“超人”李嘉诚退休已经快一年。在这一年的时间里...</td>\n",
       "    </tr>\n",
       "    <tr>\n",
       "      <th>4</th>\n",
       "      <td>HK0001</td>\n",
       "      <td>长和</td>\n",
       "      <td>利好</td>\n",
       "      <td>杰富瑞：若淡马锡售10%屈臣氏持股 长和净资产将升15%</td>\n",
       "      <td>https://news.10jqka.com.cn/m610409446/</td>\n",
       "      <td>&lt;p&gt;杰富瑞：若淡马锡成功出售10%屈臣氏持股，&lt;a data-code=\"HK0001\" ...</td>\n",
       "    </tr>\n",
       "  </tbody>\n",
       "</table>\n",
       "</div>"
      ],
      "text/plain": [
       "     code company label_property                                    title  \\\n",
       "0  HK0001      长和             中性                           赫斯基首季盈利增32%胜预期   \n",
       "1  HK0001      长和             中性  李泽钜接手后的屈臣氏：前有丝芙兰后有KOL 腾讯阿里争买股份 谁才是最大的赢家   \n",
       "2  HK0001      长和             中性                          东兴证券2019年4月十大金股   \n",
       "3  HK0001      长和             中性                        李泽钜接棒一年 长和系继续全球收购   \n",
       "4  HK0001      长和             利好             杰富瑞：若淡马锡售10%屈臣氏持股 长和净资产将升15%   \n",
       "\n",
       "                                                 url  \\\n",
       "0             https://news.10jqka.com.cn/m611120552/   \n",
       "1         https://m.jiemian.com/article/3002332.html   \n",
       "2  https://mp.weixin.qq.com/s?__biz=MzA3NTA2NTUwO...   \n",
       "3             https://news.10jqka.com.cn/m610461495/   \n",
       "4             https://news.10jqka.com.cn/m610409446/   \n",
       "\n",
       "                                             article  \n",
       "0  <p>【财华社讯】<a data-code=\"HK0001\" data-marketid=\"...  \n",
       "1  <p><span>图品来源：视觉中国</span></p><p>文 | 财联社 万千</p>...  \n",
       "2  <p class=\"profile_meta\">\\n<label class=\"profil...  \n",
       "3  <p>时代周报记者蔡颖发自广州</p><p>距“超人”李嘉诚退休已经快一年。在这一年的时间里...  \n",
       "4  <p>杰富瑞：若淡马锡成功出售10%屈臣氏持股，<a data-code=\"HK0001\" ...  "
      ]
     },
     "execution_count": 2,
     "metadata": {},
     "output_type": "execute_result"
    }
   ],
   "source": [
    "trans_prov_allcount = pd.read_csv(\"../stock_article\",encoding='utf-8',index_col = False, delimiter=',' )\n",
    "trans_prov_allcount.head()"
   ]
  },
  {
   "cell_type": "code",
   "execution_count": 3,
   "metadata": {},
   "outputs": [
    {
     "data": {
      "text/plain": [
       "(41678, 6)"
      ]
     },
     "execution_count": 3,
     "metadata": {},
     "output_type": "execute_result"
    }
   ],
   "source": [
    "trans_prov_allcount.shape"
   ]
  },
  {
   "cell_type": "code",
   "execution_count": 4,
   "metadata": {},
   "outputs": [
    {
     "data": {
      "text/html": [
       "<div>\n",
       "<style scoped>\n",
       "    .dataframe tbody tr th:only-of-type {\n",
       "        vertical-align: middle;\n",
       "    }\n",
       "\n",
       "    .dataframe tbody tr th {\n",
       "        vertical-align: top;\n",
       "    }\n",
       "\n",
       "    .dataframe thead th {\n",
       "        text-align: right;\n",
       "    }\n",
       "</style>\n",
       "<table border=\"1\" class=\"dataframe\">\n",
       "  <thead>\n",
       "    <tr style=\"text-align: right;\">\n",
       "      <th></th>\n",
       "      <th>code</th>\n",
       "      <th>company</th>\n",
       "      <th>label_property</th>\n",
       "      <th>title</th>\n",
       "      <th>url</th>\n",
       "      <th>article</th>\n",
       "    </tr>\n",
       "  </thead>\n",
       "  <tbody>\n",
       "    <tr>\n",
       "      <th>0</th>\n",
       "      <td>HK0001</td>\n",
       "      <td>长和</td>\n",
       "      <td>中性</td>\n",
       "      <td>赫斯基首季盈利增32%胜预期</td>\n",
       "      <td>https://news.10jqka.com.cn/m611120552/</td>\n",
       "      <td>&lt;p&gt;【财华社讯】&lt;a data-code=\"HK0001\" data-marketid=\"...</td>\n",
       "    </tr>\n",
       "    <tr>\n",
       "      <th>1</th>\n",
       "      <td>HK0001</td>\n",
       "      <td>长和</td>\n",
       "      <td>中性</td>\n",
       "      <td>李泽钜接手后的屈臣氏：前有丝芙兰后有KOL 腾讯阿里争买股份 谁才是最大的赢家</td>\n",
       "      <td>https://m.jiemian.com/article/3002332.html</td>\n",
       "      <td>&lt;p&gt;&lt;span&gt;图品来源：视觉中国&lt;/span&gt;&lt;/p&gt;&lt;p&gt;文 | 财联社 万千&lt;/p&gt;...</td>\n",
       "    </tr>\n",
       "    <tr>\n",
       "      <th>2</th>\n",
       "      <td>HK0001</td>\n",
       "      <td>长和</td>\n",
       "      <td>中性</td>\n",
       "      <td>东兴证券2019年4月十大金股</td>\n",
       "      <td>https://mp.weixin.qq.com/s?__biz=MzA3NTA2NTUwO...</td>\n",
       "      <td>&lt;p class=\"profile_meta\"&gt;\\n&lt;label class=\"profil...</td>\n",
       "    </tr>\n",
       "    <tr>\n",
       "      <th>3</th>\n",
       "      <td>HK0001</td>\n",
       "      <td>长和</td>\n",
       "      <td>中性</td>\n",
       "      <td>李泽钜接棒一年 长和系继续全球收购</td>\n",
       "      <td>https://news.10jqka.com.cn/m610461495/</td>\n",
       "      <td>&lt;p&gt;时代周报记者蔡颖发自广州&lt;/p&gt;&lt;p&gt;距“超人”李嘉诚退休已经快一年。在这一年的时间里...</td>\n",
       "    </tr>\n",
       "    <tr>\n",
       "      <th>4</th>\n",
       "      <td>HK0001</td>\n",
       "      <td>长和</td>\n",
       "      <td>利好</td>\n",
       "      <td>杰富瑞：若淡马锡售10%屈臣氏持股 长和净资产将升15%</td>\n",
       "      <td>https://news.10jqka.com.cn/m610409446/</td>\n",
       "      <td>&lt;p&gt;杰富瑞：若淡马锡成功出售10%屈臣氏持股，&lt;a data-code=\"HK0001\" ...</td>\n",
       "    </tr>\n",
       "  </tbody>\n",
       "</table>\n",
       "</div>"
      ],
      "text/plain": [
       "     code company label_property                                    title  \\\n",
       "0  HK0001      长和             中性                           赫斯基首季盈利增32%胜预期   \n",
       "1  HK0001      长和             中性  李泽钜接手后的屈臣氏：前有丝芙兰后有KOL 腾讯阿里争买股份 谁才是最大的赢家   \n",
       "2  HK0001      长和             中性                          东兴证券2019年4月十大金股   \n",
       "3  HK0001      长和             中性                        李泽钜接棒一年 长和系继续全球收购   \n",
       "4  HK0001      长和             利好             杰富瑞：若淡马锡售10%屈臣氏持股 长和净资产将升15%   \n",
       "\n",
       "                                                 url  \\\n",
       "0             https://news.10jqka.com.cn/m611120552/   \n",
       "1         https://m.jiemian.com/article/3002332.html   \n",
       "2  https://mp.weixin.qq.com/s?__biz=MzA3NTA2NTUwO...   \n",
       "3             https://news.10jqka.com.cn/m610461495/   \n",
       "4             https://news.10jqka.com.cn/m610409446/   \n",
       "\n",
       "                                             article  \n",
       "0  <p>【财华社讯】<a data-code=\"HK0001\" data-marketid=\"...  \n",
       "1  <p><span>图品来源：视觉中国</span></p><p>文 | 财联社 万千</p>...  \n",
       "2  <p class=\"profile_meta\">\\n<label class=\"profil...  \n",
       "3  <p>时代周报记者蔡颖发自广州</p><p>距“超人”李嘉诚退休已经快一年。在这一年的时间里...  \n",
       "4  <p>杰富瑞：若淡马锡成功出售10%屈臣氏持股，<a data-code=\"HK0001\" ...  "
      ]
     },
     "execution_count": 4,
     "metadata": {},
     "output_type": "execute_result"
    }
   ],
   "source": [
    "trans_prov_allcount=trans_prov_allcount.drop_duplicates(subset=['title'],keep='last')\n",
    "trans_prov_allcount.head()"
   ]
  },
  {
   "cell_type": "code",
   "execution_count": 9,
   "metadata": {},
   "outputs": [],
   "source": [
    "trans_prov_allcount = trans_prov_allcount[trans_prov_allcount['article'].notnull()]"
   ]
  },
  {
   "cell_type": "code",
   "execution_count": 10,
   "metadata": {},
   "outputs": [
    {
     "data": {
      "text/plain": [
       "(37171, 6)"
      ]
     },
     "execution_count": 10,
     "metadata": {},
     "output_type": "execute_result"
    }
   ],
   "source": [
    "trans_prov_allcount.shape"
   ]
  },
  {
   "cell_type": "code",
   "execution_count": 11,
   "metadata": {},
   "outputs": [
    {
     "data": {
      "text/plain": [
       "(37171, 6)"
      ]
     },
     "execution_count": 11,
     "metadata": {},
     "output_type": "execute_result"
    }
   ],
   "source": [
    "trans_prov_allcount.shape"
   ]
  },
  {
   "cell_type": "code",
   "execution_count": 24,
   "metadata": {},
   "outputs": [],
   "source": [
    "np_array = trans_prov_allcount['company'].unique()\n",
    "pd.DataFrame(np_array).to_csv(\"../company.csv\",index=None)"
   ]
  },
  {
   "cell_type": "code",
   "execution_count": null,
   "metadata": {},
   "outputs": [],
   "source": []
  }
 ],
 "metadata": {
  "kernelspec": {
   "display_name": "Python 3",
   "language": "python",
   "name": "python3"
  },
  "language_info": {
   "codemirror_mode": {
    "name": "ipython",
    "version": 3
   },
   "file_extension": ".py",
   "mimetype": "text/x-python",
   "name": "python",
   "nbconvert_exporter": "python",
   "pygments_lexer": "ipython3",
   "version": "3.6.2"
  }
 },
 "nbformat": 4,
 "nbformat_minor": 2
}
