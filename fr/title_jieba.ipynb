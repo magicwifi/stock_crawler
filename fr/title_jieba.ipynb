{
 "cells": [
  {
   "cell_type": "code",
   "execution_count": 6,
   "metadata": {},
   "outputs": [],
   "source": [
    "# coding:utf-8\n",
    "import arrow\n",
    "import qgrid\n",
    "import seaborn as sns\n",
    "import numpy as np\n",
    "import pandas as pd\n",
    "from pandas import Series, DataFrame\n",
    "\n",
    "import matplotlib.pyplot as plt\n",
    "import jieba\n",
    "    \n",
    "\n",
    "from sklearn.model_selection import train_test_split\n",
    "\n",
    "\n",
    "%matplotlib inline\n",
    "\n",
    "sns.set(style='whitegrid')"
   ]
  },
  {
   "cell_type": "code",
   "execution_count": 7,
   "metadata": {},
   "outputs": [
    {
     "data": {
      "text/html": [
       "<div>\n",
       "<style scoped>\n",
       "    .dataframe tbody tr th:only-of-type {\n",
       "        vertical-align: middle;\n",
       "    }\n",
       "\n",
       "    .dataframe tbody tr th {\n",
       "        vertical-align: top;\n",
       "    }\n",
       "\n",
       "    .dataframe thead th {\n",
       "        text-align: right;\n",
       "    }\n",
       "</style>\n",
       "<table border=\"1\" class=\"dataframe\">\n",
       "  <thead>\n",
       "    <tr style=\"text-align: right;\">\n",
       "      <th></th>\n",
       "      <th>code</th>\n",
       "      <th>company</th>\n",
       "      <th>label_property</th>\n",
       "      <th>title</th>\n",
       "      <th>url</th>\n",
       "      <th>article</th>\n",
       "    </tr>\n",
       "  </thead>\n",
       "  <tbody>\n",
       "    <tr>\n",
       "      <th>0</th>\n",
       "      <td>HK0001</td>\n",
       "      <td>长和</td>\n",
       "      <td>中性</td>\n",
       "      <td>赫斯基首季盈利增32%胜预期</td>\n",
       "      <td>https://news.10jqka.com.cn/m611120552/</td>\n",
       "      <td>&lt;p&gt;【财华社讯】&lt;a data-code=\"HK0001\" data-marketid=\"...</td>\n",
       "    </tr>\n",
       "    <tr>\n",
       "      <th>1</th>\n",
       "      <td>HK0001</td>\n",
       "      <td>长和</td>\n",
       "      <td>中性</td>\n",
       "      <td>李泽钜接手后的屈臣氏：前有丝芙兰后有KOL 腾讯阿里争买股份 谁才是最大的赢家</td>\n",
       "      <td>https://m.jiemian.com/article/3002332.html</td>\n",
       "      <td>&lt;p&gt;&lt;span&gt;图品来源：视觉中国&lt;/span&gt;&lt;/p&gt;&lt;p&gt;文 | 财联社 万千&lt;/p&gt;...</td>\n",
       "    </tr>\n",
       "    <tr>\n",
       "      <th>2</th>\n",
       "      <td>HK0001</td>\n",
       "      <td>长和</td>\n",
       "      <td>中性</td>\n",
       "      <td>东兴证券2019年4月十大金股</td>\n",
       "      <td>https://mp.weixin.qq.com/s?__biz=MzA3NTA2NTUwO...</td>\n",
       "      <td>&lt;p class=\"profile_meta\"&gt;\\n&lt;label class=\"profil...</td>\n",
       "    </tr>\n",
       "    <tr>\n",
       "      <th>3</th>\n",
       "      <td>HK0001</td>\n",
       "      <td>长和</td>\n",
       "      <td>中性</td>\n",
       "      <td>李泽钜接棒一年 长和系继续全球收购</td>\n",
       "      <td>https://news.10jqka.com.cn/m610461495/</td>\n",
       "      <td>&lt;p&gt;时代周报记者蔡颖发自广州&lt;/p&gt;&lt;p&gt;距“超人”李嘉诚退休已经快一年。在这一年的时间里...</td>\n",
       "    </tr>\n",
       "    <tr>\n",
       "      <th>4</th>\n",
       "      <td>HK0001</td>\n",
       "      <td>长和</td>\n",
       "      <td>利好</td>\n",
       "      <td>杰富瑞：若淡马锡售10%屈臣氏持股 长和净资产将升15%</td>\n",
       "      <td>https://news.10jqka.com.cn/m610409446/</td>\n",
       "      <td>&lt;p&gt;杰富瑞：若淡马锡成功出售10%屈臣氏持股，&lt;a data-code=\"HK0001\" ...</td>\n",
       "    </tr>\n",
       "  </tbody>\n",
       "</table>\n",
       "</div>"
      ],
      "text/plain": [
       "     code company label_property                                    title  \\\n",
       "0  HK0001      长和             中性                           赫斯基首季盈利增32%胜预期   \n",
       "1  HK0001      长和             中性  李泽钜接手后的屈臣氏：前有丝芙兰后有KOL 腾讯阿里争买股份 谁才是最大的赢家   \n",
       "2  HK0001      长和             中性                          东兴证券2019年4月十大金股   \n",
       "3  HK0001      长和             中性                        李泽钜接棒一年 长和系继续全球收购   \n",
       "4  HK0001      长和             利好             杰富瑞：若淡马锡售10%屈臣氏持股 长和净资产将升15%   \n",
       "\n",
       "                                                 url  \\\n",
       "0             https://news.10jqka.com.cn/m611120552/   \n",
       "1         https://m.jiemian.com/article/3002332.html   \n",
       "2  https://mp.weixin.qq.com/s?__biz=MzA3NTA2NTUwO...   \n",
       "3             https://news.10jqka.com.cn/m610461495/   \n",
       "4             https://news.10jqka.com.cn/m610409446/   \n",
       "\n",
       "                                             article  \n",
       "0  <p>【财华社讯】<a data-code=\"HK0001\" data-marketid=\"...  \n",
       "1  <p><span>图品来源：视觉中国</span></p><p>文 | 财联社 万千</p>...  \n",
       "2  <p class=\"profile_meta\">\\n<label class=\"profil...  \n",
       "3  <p>时代周报记者蔡颖发自广州</p><p>距“超人”李嘉诚退休已经快一年。在这一年的时间里...  \n",
       "4  <p>杰富瑞：若淡马锡成功出售10%屈臣氏持股，<a data-code=\"HK0001\" ...  "
      ]
     },
     "execution_count": 7,
     "metadata": {},
     "output_type": "execute_result"
    }
   ],
   "source": [
    "trans_prov_allcount = pd.read_csv('../result_data/article_predict_result.csv',encoding='utf-8',index_col = False, delimiter=',' )\n",
    "trans_prov_allcount.head()"
   ]
  },
  {
   "cell_type": "code",
   "execution_count": 8,
   "metadata": {},
   "outputs": [],
   "source": [
    "jieba.load_userdict(\"../corpus/Organization-Names-Corpus.txt\")\n",
    "jieba.load_userdict(\"../corpus/short-company.txt\")\n",
    "jieba.load_userdict(\"../corpus/THUOCL_caijing.txt\")\n",
    "jieba.load_userdict(\"../corpus/company_dict.txt\")\n",
    "jieba.load_userdict(\"../corpus/username.txt\")\n"
   ]
  },
  {
   "cell_type": "code",
   "execution_count": 9,
   "metadata": {},
   "outputs": [],
   "source": [
    "def stopwordslist(filepath):  \n",
    "    stopwords = [line.strip() for line in open(filepath, 'r', encoding='utf-8').readlines()]  \n",
    "    return stopwords  \n",
    "  \n",
    "def seg_sentence(sentence):  \n",
    "    outstr = []\n",
    "    sentence_seged = jieba.cut(sentence.strip())  \n",
    "    stopwords = stopwordslist('../corpus/stopword.txt')  # 这里加载停用词的路径  \n",
    "    for word in sentence_seged:  \n",
    "        if word not in stopwords:  \n",
    "            if word != '\\t':  \n",
    "                outstr.append(word)   \n",
    "    return outstr \n",
    "def clearstr(line_str):\n",
    "    rule = re.compile(r\"[^\\u4e00-\\u9fa5]\")\n",
    "    line_str = rule.sub('',line_str)\n",
    "    rule = re.compile(u\"[^\\u4e00-\\u9fa5]\")\n",
    "    line_str = rule.sub('',line_str)\n",
    "    return re.sub(\"[\\d+\\s+\\.\\!\\/_,$%^*(+\\\"\\'<>=【】\\-]+|[+——！，。？、~@#￥%……&*（）：]+\", \"\",line_str)\n",
    "\n"
   ]
  },
  {
   "cell_type": "code",
   "execution_count": 10,
   "metadata": {},
   "outputs": [
    {
     "data": {
      "text/html": [
       "<div>\n",
       "<style scoped>\n",
       "    .dataframe tbody tr th:only-of-type {\n",
       "        vertical-align: middle;\n",
       "    }\n",
       "\n",
       "    .dataframe tbody tr th {\n",
       "        vertical-align: top;\n",
       "    }\n",
       "\n",
       "    .dataframe thead th {\n",
       "        text-align: right;\n",
       "    }\n",
       "</style>\n",
       "<table border=\"1\" class=\"dataframe\">\n",
       "  <thead>\n",
       "    <tr style=\"text-align: right;\">\n",
       "      <th></th>\n",
       "      <th>code</th>\n",
       "      <th>company</th>\n",
       "      <th>label_property</th>\n",
       "      <th>title</th>\n",
       "      <th>url</th>\n",
       "      <th>article</th>\n",
       "    </tr>\n",
       "  </thead>\n",
       "  <tbody>\n",
       "    <tr>\n",
       "      <th>0</th>\n",
       "      <td>HK0001</td>\n",
       "      <td>长和</td>\n",
       "      <td>中性</td>\n",
       "      <td>赫斯基首季盈利增胜预期</td>\n",
       "      <td>https://news.10jqka.com.cn/m611120552/</td>\n",
       "      <td>财华社讯长和旗下加拿大赫斯基能源公布首季业绩盈利亿元加元下同同比上升扣除特殊项目后每股盈利元...</td>\n",
       "    </tr>\n",
       "    <tr>\n",
       "      <th>1</th>\n",
       "      <td>HK0001</td>\n",
       "      <td>长和</td>\n",
       "      <td>中性</td>\n",
       "      <td>李泽钜接手后的屈臣氏前有丝芙兰后有腾讯阿里争买股份谁才是最大的赢家</td>\n",
       "      <td>https://m.jiemian.com/article/3002332.html</td>\n",
       "      <td>图品来源视觉中国文财联社万千去年月李嘉诚退休李泽钜正式接管父亲的万亿商业帝国同时接手了旗下已...</td>\n",
       "    </tr>\n",
       "    <tr>\n",
       "      <th>2</th>\n",
       "      <td>HK0001</td>\n",
       "      <td>长和</td>\n",
       "      <td>中性</td>\n",
       "      <td>东兴证券年月十大金股</td>\n",
       "      <td>https://mp.weixin.qq.com/s?__biz=MzA3NTA2NTUwO...</td>\n",
       "      <td>功能介绍推送东兴研究所的研究成果来服务机构投资者外资风险偏好扰动放大市场情绪波动随着减税等一...</td>\n",
       "    </tr>\n",
       "    <tr>\n",
       "      <th>3</th>\n",
       "      <td>HK0001</td>\n",
       "      <td>长和</td>\n",
       "      <td>中性</td>\n",
       "      <td>李泽钜接棒一年长和系继续全球收购</td>\n",
       "      <td>https://news.10jqka.com.cn/m610461495/</td>\n",
       "      <td>时代周报记者蔡颖发自广州距超人李嘉诚退休已经快一年在这一年的时间里外界好奇新掌门人李泽钜秉承...</td>\n",
       "    </tr>\n",
       "    <tr>\n",
       "      <th>4</th>\n",
       "      <td>HK0001</td>\n",
       "      <td>长和</td>\n",
       "      <td>利好</td>\n",
       "      <td>杰富瑞若淡马锡售屈臣氏持股长和净资产将升</td>\n",
       "      <td>https://news.10jqka.com.cn/m610409446/</td>\n",
       "      <td>杰富瑞若淡马锡成功出售屈臣氏持股长和的净资产值将可提升</td>\n",
       "    </tr>\n",
       "  </tbody>\n",
       "</table>\n",
       "</div>"
      ],
      "text/plain": [
       "     code company label_property                              title  \\\n",
       "0  HK0001      长和             中性                        赫斯基首季盈利增胜预期   \n",
       "1  HK0001      长和             中性  李泽钜接手后的屈臣氏前有丝芙兰后有腾讯阿里争买股份谁才是最大的赢家   \n",
       "2  HK0001      长和             中性                         东兴证券年月十大金股   \n",
       "3  HK0001      长和             中性                   李泽钜接棒一年长和系继续全球收购   \n",
       "4  HK0001      长和             利好               杰富瑞若淡马锡售屈臣氏持股长和净资产将升   \n",
       "\n",
       "                                                 url  \\\n",
       "0             https://news.10jqka.com.cn/m611120552/   \n",
       "1         https://m.jiemian.com/article/3002332.html   \n",
       "2  https://mp.weixin.qq.com/s?__biz=MzA3NTA2NTUwO...   \n",
       "3             https://news.10jqka.com.cn/m610461495/   \n",
       "4             https://news.10jqka.com.cn/m610409446/   \n",
       "\n",
       "                                             article  \n",
       "0  财华社讯长和旗下加拿大赫斯基能源公布首季业绩盈利亿元加元下同同比上升扣除特殊项目后每股盈利元...  \n",
       "1  图品来源视觉中国文财联社万千去年月李嘉诚退休李泽钜正式接管父亲的万亿商业帝国同时接手了旗下已...  \n",
       "2  功能介绍推送东兴研究所的研究成果来服务机构投资者外资风险偏好扰动放大市场情绪波动随着减税等一...  \n",
       "3  时代周报记者蔡颖发自广州距超人李嘉诚退休已经快一年在这一年的时间里外界好奇新掌门人李泽钜秉承...  \n",
       "4                        杰富瑞若淡马锡成功出售屈臣氏持股长和的净资产值将可提升  "
      ]
     },
     "execution_count": 10,
     "metadata": {},
     "output_type": "execute_result"
    }
   ],
   "source": [
    "import re\n",
    "trans_prov_allcount['title'] =trans_prov_allcount['title'].apply(clearstr)\n",
    "trans_prov_allcount['article'] =trans_prov_allcount['article'].apply(clearstr)\n",
    "trans_prov_allcount.head()"
   ]
  },
  {
   "cell_type": "code",
   "execution_count": 11,
   "metadata": {},
   "outputs": [
    {
     "data": {
      "text/html": [
       "<div>\n",
       "<style scoped>\n",
       "    .dataframe tbody tr th:only-of-type {\n",
       "        vertical-align: middle;\n",
       "    }\n",
       "\n",
       "    .dataframe tbody tr th {\n",
       "        vertical-align: top;\n",
       "    }\n",
       "\n",
       "    .dataframe thead th {\n",
       "        text-align: right;\n",
       "    }\n",
       "</style>\n",
       "<table border=\"1\" class=\"dataframe\">\n",
       "  <thead>\n",
       "    <tr style=\"text-align: right;\">\n",
       "      <th></th>\n",
       "      <th>code</th>\n",
       "      <th>company</th>\n",
       "      <th>label_property</th>\n",
       "      <th>title</th>\n",
       "      <th>url</th>\n",
       "      <th>article</th>\n",
       "      <th>title_words</th>\n",
       "    </tr>\n",
       "  </thead>\n",
       "  <tbody>\n",
       "    <tr>\n",
       "      <th>0</th>\n",
       "      <td>HK0001</td>\n",
       "      <td>长和</td>\n",
       "      <td>中性</td>\n",
       "      <td>赫斯基首季盈利增胜预期</td>\n",
       "      <td>https://news.10jqka.com.cn/m611120552/</td>\n",
       "      <td>财华社讯长和旗下加拿大赫斯基能源公布首季业绩盈利亿元加元下同同比上升扣除特殊项目后每股盈利元...</td>\n",
       "      <td>[赫斯基, 首季, 盈利, 增胜, 预期]</td>\n",
       "    </tr>\n",
       "    <tr>\n",
       "      <th>1</th>\n",
       "      <td>HK0001</td>\n",
       "      <td>长和</td>\n",
       "      <td>中性</td>\n",
       "      <td>李泽钜接手后的屈臣氏前有丝芙兰后有腾讯阿里争买股份谁才是最大的赢家</td>\n",
       "      <td>https://m.jiemian.com/article/3002332.html</td>\n",
       "      <td>图品来源视觉中国文财联社万千去年月李嘉诚退休李泽钜正式接管父亲的万亿商业帝国同时接手了旗下已...</td>\n",
       "      <td>[李, 泽钜, 接手, 屈臣氏, 前有, 丝芙兰, 腾讯, 阿里, 争买, 股份, 最大, 赢家]</td>\n",
       "    </tr>\n",
       "    <tr>\n",
       "      <th>2</th>\n",
       "      <td>HK0001</td>\n",
       "      <td>长和</td>\n",
       "      <td>中性</td>\n",
       "      <td>东兴证券年月十大金股</td>\n",
       "      <td>https://mp.weixin.qq.com/s?__biz=MzA3NTA2NTUwO...</td>\n",
       "      <td>功能介绍推送东兴研究所的研究成果来服务机构投资者外资风险偏好扰动放大市场情绪波动随着减税等一...</td>\n",
       "      <td>[东兴证券, 年, 月, 十大, 金股]</td>\n",
       "    </tr>\n",
       "    <tr>\n",
       "      <th>3</th>\n",
       "      <td>HK0001</td>\n",
       "      <td>长和</td>\n",
       "      <td>中性</td>\n",
       "      <td>李泽钜接棒一年长和系继续全球收购</td>\n",
       "      <td>https://news.10jqka.com.cn/m610461495/</td>\n",
       "      <td>时代周报记者蔡颖发自广州距超人李嘉诚退休已经快一年在这一年的时间里外界好奇新掌门人李泽钜秉承...</td>\n",
       "      <td>[李, 泽钜, 接棒, 一年, 长, 和系, 继续, 全球, 收购]</td>\n",
       "    </tr>\n",
       "    <tr>\n",
       "      <th>4</th>\n",
       "      <td>HK0001</td>\n",
       "      <td>长和</td>\n",
       "      <td>利好</td>\n",
       "      <td>杰富瑞若淡马锡售屈臣氏持股长和净资产将升</td>\n",
       "      <td>https://news.10jqka.com.cn/m610409446/</td>\n",
       "      <td>杰富瑞若淡马锡成功出售屈臣氏持股长和的净资产值将可提升</td>\n",
       "      <td>[杰富瑞, 淡马锡, 售, 屈臣氏, 持股, 长和, 净资产, 将升]</td>\n",
       "    </tr>\n",
       "  </tbody>\n",
       "</table>\n",
       "</div>"
      ],
      "text/plain": [
       "     code company label_property                              title  \\\n",
       "0  HK0001      长和             中性                        赫斯基首季盈利增胜预期   \n",
       "1  HK0001      长和             中性  李泽钜接手后的屈臣氏前有丝芙兰后有腾讯阿里争买股份谁才是最大的赢家   \n",
       "2  HK0001      长和             中性                         东兴证券年月十大金股   \n",
       "3  HK0001      长和             中性                   李泽钜接棒一年长和系继续全球收购   \n",
       "4  HK0001      长和             利好               杰富瑞若淡马锡售屈臣氏持股长和净资产将升   \n",
       "\n",
       "                                                 url  \\\n",
       "0             https://news.10jqka.com.cn/m611120552/   \n",
       "1         https://m.jiemian.com/article/3002332.html   \n",
       "2  https://mp.weixin.qq.com/s?__biz=MzA3NTA2NTUwO...   \n",
       "3             https://news.10jqka.com.cn/m610461495/   \n",
       "4             https://news.10jqka.com.cn/m610409446/   \n",
       "\n",
       "                                             article  \\\n",
       "0  财华社讯长和旗下加拿大赫斯基能源公布首季业绩盈利亿元加元下同同比上升扣除特殊项目后每股盈利元...   \n",
       "1  图品来源视觉中国文财联社万千去年月李嘉诚退休李泽钜正式接管父亲的万亿商业帝国同时接手了旗下已...   \n",
       "2  功能介绍推送东兴研究所的研究成果来服务机构投资者外资风险偏好扰动放大市场情绪波动随着减税等一...   \n",
       "3  时代周报记者蔡颖发自广州距超人李嘉诚退休已经快一年在这一年的时间里外界好奇新掌门人李泽钜秉承...   \n",
       "4                        杰富瑞若淡马锡成功出售屈臣氏持股长和的净资产值将可提升   \n",
       "\n",
       "                                         title_words  \n",
       "0                              [赫斯基, 首季, 盈利, 增胜, 预期]  \n",
       "1  [李, 泽钜, 接手, 屈臣氏, 前有, 丝芙兰, 腾讯, 阿里, 争买, 股份, 最大, 赢家]  \n",
       "2                               [东兴证券, 年, 月, 十大, 金股]  \n",
       "3                 [李, 泽钜, 接棒, 一年, 长, 和系, 继续, 全球, 收购]  \n",
       "4                [杰富瑞, 淡马锡, 售, 屈臣氏, 持股, 长和, 净资产, 将升]  "
      ]
     },
     "execution_count": 11,
     "metadata": {},
     "output_type": "execute_result"
    }
   ],
   "source": [
    "trans_prov_allcount['title_words'] =trans_prov_allcount['title'].apply(seg_sentence)\n",
    "trans_prov_allcount.head()"
   ]
  },
  {
   "cell_type": "code",
   "execution_count": 12,
   "metadata": {},
   "outputs": [
    {
     "data": {
      "text/plain": [
       "'赫斯基'"
      ]
     },
     "execution_count": 12,
     "metadata": {},
     "output_type": "execute_result"
    }
   ],
   "source": [
    "trans_prov_allcount['title_words'].values[0][0]"
   ]
  },
  {
   "cell_type": "code",
   "execution_count": 13,
   "metadata": {},
   "outputs": [],
   "source": [
    "cate_dic = {'利好':1, '中性':2, '利空':3}\n",
    "\n",
    "\n",
    "def preprocess_text(row):\n",
    "    cate_dic = {'利好':1, '中性':2, '利空':3}\n",
    "    cate = row['label_property']\n",
    "    result_str = \"__label__\"+str(cate_dic[cate])+\" , \"+\" \".join(row['title_words'])\n",
    "    return result_str"
   ]
  },
  {
   "cell_type": "code",
   "execution_count": 14,
   "metadata": {},
   "outputs": [],
   "source": [
    "trans_prov_allcount['title_train'] = trans_prov_allcount.apply(preprocess_text, axis=1)"
   ]
  },
  {
   "cell_type": "code",
   "execution_count": 15,
   "metadata": {},
   "outputs": [
    {
     "data": {
      "text/plain": [
       "'__label__2 , 李 泽钜 接棒 一年 长 和系 继续 全球 收购'"
      ]
     },
     "execution_count": 15,
     "metadata": {},
     "output_type": "execute_result"
    }
   ],
   "source": [
    "sentences = []\n",
    "\n",
    "for sentence in trans_prov_allcount['title_train'].values:\n",
    "    sentences.append(sentence)\n",
    "sentences[3]"
   ]
  },
  {
   "cell_type": "code",
   "execution_count": 17,
   "metadata": {},
   "outputs": [],
   "source": [
    "with open('train_data.txt', 'w') as f:\n",
    "    for item in sentences:\n",
    "        f.write(\"%s\\n\" % item)"
   ]
  },
  {
   "cell_type": "code",
   "execution_count": 18,
   "metadata": {},
   "outputs": [],
   "source": [
    "import fasttext\n",
    "classifier = fasttext.supervised('train_data.txt', 'classifier.model', label_prefix='__label__')\n",
    "\n"
   ]
  },
  {
   "cell_type": "code",
   "execution_count": 19,
   "metadata": {},
   "outputs": [
    {
     "name": "stdout",
     "output_type": "stream",
     "text": [
      "P@1:0.8453095154824998\n",
      "R@1:0.8453095154824998\n",
      "Number of examples:37171\n"
     ]
    }
   ],
   "source": [
    "\n",
    "result = classifier.test('train_data.txt')\n",
    "print('P@1:'+str(result.precision))\n",
    "print('R@1:'+str(result.recall))\n",
    "print('Number of examples:'+str(result.nexamples))"
   ]
  },
  {
   "cell_type": "code",
   "execution_count": 31,
   "metadata": {},
   "outputs": [
    {
     "data": {
      "text/plain": [
       "['两市 地位 震荡 沪 指险 守点 板块 抛 跌停 潮']"
      ]
     },
     "execution_count": 31,
     "metadata": {},
     "output_type": "execute_result"
    }
   ],
   "source": [
    "str_cln= \"两市地位震荡沪指险守2900点 ST板块抛跌停潮\"\n",
    "str_cln= clearstr(str_cln)\n",
    "str_arr = seg_sentence(str_cln)\n",
    "\n",
    "str_arr = [\" \".join(str_arr)]\n",
    "str_arr"
   ]
  },
  {
   "cell_type": "code",
   "execution_count": 32,
   "metadata": {},
   "outputs": [
    {
     "name": "stdout",
     "output_type": "stream",
     "text": [
      "[['3']]\n",
      "利空\n"
     ]
    }
   ],
   "source": [
    "label_to_cate = {1:'利好', 2:'中性', 3:'利空'}\n",
    "\n",
    "labels = classifier.predict(str_arr)\n",
    "\n",
    "print(labels)\n",
    "print(label_to_cate[int(labels[0][0])])"
   ]
  },
  {
   "cell_type": "code",
   "execution_count": 37,
   "metadata": {},
   "outputs": [
    {
     "data": {
      "text/plain": [
       "['连年 亏损 买入 美团点评']"
      ]
     },
     "execution_count": 37,
     "metadata": {},
     "output_type": "execute_result"
    }
   ],
   "source": [
    "str_cln= \"连年亏损 你为什么还要买入美团点评\"\n",
    "str_cln= clearstr(str_cln)\n",
    "str_arr = seg_sentence(str_cln)\n",
    "\n",
    "str_arr = [\" \".join(str_arr)]\n",
    "str_arr"
   ]
  },
  {
   "cell_type": "code",
   "execution_count": 38,
   "metadata": {},
   "outputs": [
    {
     "name": "stdout",
     "output_type": "stream",
     "text": [
      "[['3']]\n",
      "利空\n"
     ]
    }
   ],
   "source": [
    "label_to_cate = {1:'利好', 2:'中性', 3:'利空'}\n",
    "\n",
    "labels = classifier.predict(str_arr)\n",
    "\n",
    "print(labels)\n",
    "print(label_to_cate[int(labels[0][0])])"
   ]
  },
  {
   "cell_type": "code",
   "execution_count": null,
   "metadata": {},
   "outputs": [],
   "source": []
  }
 ],
 "metadata": {
  "kernelspec": {
   "display_name": "Python 3",
   "language": "python",
   "name": "python3"
  },
  "language_info": {
   "codemirror_mode": {
    "name": "ipython",
    "version": 3
   },
   "file_extension": ".py",
   "mimetype": "text/x-python",
   "name": "python",
   "nbconvert_exporter": "python",
   "pygments_lexer": "ipython3",
   "version": "3.6.2"
  }
 },
 "nbformat": 4,
 "nbformat_minor": 2
}
